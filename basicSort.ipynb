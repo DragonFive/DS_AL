{
 "metadata": {
  "name": "",
  "signature": "sha256:994851164c68b01b67462d7d4305328139353edf2fabd75978bb9807272b14a6"
 },
 "nbformat": 3,
 "nbformat_minor": 0,
 "worksheets": [
  {
   "cells": [
    {
     "cell_type": "markdown",
     "metadata": {},
     "source": [
      "# \u6392\u5e8f\u65b9\u6cd5\n",
      "\n",
      "---\n",
      "\n",
      "## \u5192\u6ce1\u6392\u5e8f"
     ]
    },
    {
     "cell_type": "code",
     "collapsed": false,
     "input": [
      "def bubleSort(array):\n",
      "    # \u8fd9\u4e2ai\u8868\u793a\u8be5\u627e\u7b2ci+1\u5927\u7684\u6570\n",
      "    for i in xrange(len(array)-1):\n",
      "        for j in xrange(0,len(array)-i-1):\n",
      "            if array[j]>array[j+1]:\n",
      "                array[j+1],array[j] = array[j],array[j+1]\n",
      "\n",
      "    return array\n",
      "\n",
      "array = [12,18,29,9,4,1,6]\n",
      "bubleSort(array)\n",
      "            "
     ],
     "language": "python",
     "metadata": {},
     "outputs": [
      {
       "metadata": {},
       "output_type": "pyout",
       "prompt_number": 1,
       "text": [
        "[1, 4, 6, 9, 12, 18, 29]"
       ]
      }
     ],
     "prompt_number": 1
    },
    {
     "cell_type": "code",
     "collapsed": false,
     "input": [
      "def bubleSort2(array):\n",
      "    # \u8fd9\u4e2ai\u8be5\u627e\u5b58\u5728\u8fd9\u4e2a\u4e0b\u6807\u4e0a\u7684\u6570\u4e86\n",
      "    for i in xrange(len(array)-1,0,-1):\n",
      "        for j in xrange(0,i):\n",
      "            if array[j]>array[j+1]:\n",
      "                array[j+1],array[j] = array[j],array[j+1]\n",
      "\n",
      "    return array\n",
      "\n",
      "array = [12,18,29,9,4,1,6]\n",
      "bubleSort(array)"
     ],
     "language": "python",
     "metadata": {},
     "outputs": [
      {
       "metadata": {},
       "output_type": "pyout",
       "prompt_number": 21,
       "text": [
        "[1, 4, 6, 9, 12, 18, 29]"
       ]
      }
     ],
     "prompt_number": 21
    },
    {
     "cell_type": "markdown",
     "metadata": {},
     "source": [
      "### \u590d\u6742\u5ea6\u5206\u6790\n",
      "\n",
      "\u5e73\u5747\u60c5\u51b5\u4e0e\u6700\u574f\u60c5\u51b5\u5747\u4e3a $O(n^2)$, \u4f7f\u7528\u4e86 temp \u4f5c\u4e3a\u4e34\u65f6\u4ea4\u6362\u53d8\u91cf\uff0c\u7a7a\u95f4\u590d\u6742\u5ea6\u4e3a $O(1)$."
     ]
    },
    {
     "cell_type": "markdown",
     "metadata": {},
     "source": [
      "## \u9009\u62e9\u6392\u5e8f \n",
      "\u6838\u5fc3\uff1a\u4e0d\u65ad\u5730\u9009\u62e9\u5269\u4f59\u5143\u7d20\u4e2d\u7684\u6700\u5c0f\u8005\u3002\n",
      "\n",
      "1. \u627e\u5230\u6570\u7ec4\u4e2d\u6700\u5c0f\u5143\u7d20\u5e76\u5c06\u5176\u548c\u6570\u7ec4\u7b2c\u4e00\u4e2a\u5143\u7d20\u4ea4\u6362\u4f4d\u7f6e\u3002\n",
      "2. \u5728\u5269\u4e0b\u7684\u5143\u7d20\u4e2d\u627e\u5230\u6700\u5c0f\u5143\u7d20\u5e76\u5c06\u5176\u4e0e\u6570\u7ec4\u7b2c\u4e8c\u4e2a\u5143\u7d20\u4ea4\u6362\uff0c\u76f4\u81f3\u6574\u4e2a\u6570\u7ec4\u6392\u5e8f\u3002\n",
      "\n",
      "\u6027\u8d28\uff1a\n",
      "\n",
      "1. \u6bd4\u8f83\u6b21\u6570=(N-1)+(N-2)+(N-3)+...+2+1~N^2/2\n",
      "2. \u4ea4\u6362\u6b21\u6570=N\n",
      "3. \u8fd0\u884c\u65f6\u95f4\u4e0e\u8f93\u5165\u65e0\u5173\n",
      "4. \u6570\u636e\u79fb\u52a8\u6700\u5c11\n"
     ]
    },
    {
     "cell_type": "code",
     "collapsed": false,
     "input": [
      "def selectSort(array):\n",
      "    # \u8fd9\u91cci\u8bb0\u5f97\u662f\u8fd9\u6b21\u8be5\u51b3\u5b9a\u8c01\u5b58\u5230\u8fd9\u4e2a\u4e0b\u6807\u4e0a\u4e86\n",
      "    for i in xrange(len(array)-1):\n",
      "        min_ind = i\n",
      "        for j in xrange(i+1,len(array)):\n",
      "            if array[min_ind]>array[j]:\n",
      "                min_ind = j\n",
      "        if min_ind != i:\n",
      "            array[min_ind],array[i] = array[i],array[min_ind]\n",
      "\n",
      "    return array\n",
      "\n",
      "array = [12,18,29,9,4,1,6]\n",
      "selectSort(array)\n"
     ],
     "language": "python",
     "metadata": {},
     "outputs": [
      {
       "metadata": {},
       "output_type": "pyout",
       "prompt_number": 9,
       "text": [
        "[1, 4, 6, 9, 12, 18, 29]"
       ]
      }
     ],
     "prompt_number": 9
    },
    {
     "cell_type": "code",
     "collapsed": false,
     "input": [
      "def selectSort2(array):\n",
      "    # \u8fd9\u91cci\u8bb0\u5f97\u662f\u8fd9\u6b21\u8be5\u51b3\u5b9a\u8c01\u5b58\u5230\u8fd9\u4e2a\u4e0b\u6807\u4e0a\u4e86\n",
      "    for i in xrange(len(array)-1,0,-1):\n",
      "        max_ind = i\n",
      "        #print i\n",
      "        for j in xrange(0,i):\n",
      "            #print j,array[max_ind],array[j]\n",
      "            if array[max_ind]<array[j]:\n",
      "                max_ind = j\n",
      "        if max_ind != i:\n",
      "            array[max_ind],array[i] = array[i],array[max_ind]\n",
      "        #print array\n",
      "    return array\n",
      "\n",
      "array = [12,18,29,9,4,1,6]\n",
      "selectSort2(array)"
     ],
     "language": "python",
     "metadata": {},
     "outputs": [
      {
       "metadata": {},
       "output_type": "pyout",
       "prompt_number": 1,
       "text": [
        "[1, 4, 6, 9, 12, 18, 29]"
       ]
      }
     ],
     "prompt_number": 1
    },
    {
     "cell_type": "markdown",
     "metadata": {},
     "source": [
      "## \u63d2\u5165\u6392\u5e8f\n",
      "\n"
     ]
    },
    {
     "cell_type": "code",
     "collapsed": false,
     "input": [
      "def insertSort(alist):\n",
      "    for i,item_i in enumerate(alist):\n",
      "        # \u5f00\u59cb\u786e\u5b9a\u7b2ci\u4e2a\u5143\u7d20\u5e94\u8be5\u5728\u7684\u4f4d\u5b50;\n",
      "        index = i-1\n",
      "        # \u4ece\u524d\u4e00\u4e2a\u5143\u7d20\u5f00\u59cb\uff0c\u904d\u5386\u52300,\n",
      "        while index>=0 and alist[index]>item_i:\n",
      "            alist[index+1]=alist[index]\n",
      "            index-=1\n",
      "        alist[index+1] = item_i\n",
      "    return alist\n",
      "\n",
      "alist = [12,18,29,9,4,1,6]\n",
      "insertSort(alist)\n",
      "\n",
      "\n"
     ],
     "language": "python",
     "metadata": {},
     "outputs": [
      {
       "metadata": {},
       "output_type": "pyout",
       "prompt_number": 1,
       "text": [
        "[1, 4, 6, 9, 12, 18, 29]"
       ]
      }
     ],
     "prompt_number": 1
    },
    {
     "cell_type": "markdown",
     "metadata": {},
     "source": [
      "## \u5e0c\u5c14\u6392\u5e8f \n",
      "\n",
      "\u5176\u5b9e\u5c31\u662f\u5206\u7ec4\u63d2\u5165\u6392\u5e8f \n"
     ]
    },
    {
     "cell_type": "code",
     "collapsed": false,
     "input": [
      "def shellSort(alist):\n",
      "    n = len(alist)\n",
      "    gap = int(round(n/2)) # \u53bb\u957f\u5ea6\u7684\u4e00\u822c\u4f5c\u4e3agap\n",
      "    while gap>0:\n",
      "        # print gap\n",
      "        for i in xrange(gap,n):\n",
      "            # \u628ai\u63d2\u5165\u8be5\u5217\u524d\u9762\u5df2\u7ecf\u6392\u597d\u7684\u5730\u65b9 \n",
      "            temp = alist[i]\n",
      "            while i-gap >=0 and alist[i-gap]>temp:\n",
      "                alist[i]=alist[i-gap]\n",
      "                i-=gap\n",
      "            alist[i] = temp\n",
      "        gap = int(round(gap/2)) # \u5f97\u5230\u65b0\u7684\u6b65\u957f\n",
      "    return alist\n",
      "\n",
      "array = [12,18,29,9,4,1,6]\n",
      "shellSort(array)"
     ],
     "language": "python",
     "metadata": {},
     "outputs": [
      {
       "metadata": {},
       "output_type": "pyout",
       "prompt_number": 7,
       "text": [
        "[1, 4, 6, 9, 12, 18, 29]"
       ]
      }
     ],
     "prompt_number": 7
    },
    {
     "cell_type": "markdown",
     "metadata": {},
     "source": [
      "## \u5f52\u5e76\u6392\u5e8f \n",
      "\n",
      "\u6838\u5fc3\uff1a\u5c06\u4e24\u4e2a\u6709\u5e8f\u5bf9\u6570\u7ec4\u5f52\u5e76\u6210\u4e00\u4e2a\u66f4\u5927\u7684\u6709\u5e8f\u6570\u7ec4\u3002\u901a\u5e38\u505a\u6cd5\u4e3a\u9012\u5f52\u6392\u5e8f\uff0c\u5e76\u5c06\u4e24\u4e2a\u4e0d\u540c\u7684\u6709\u5e8f\u6570\u7ec4\u5f52\u5e76\u5230\u7b2c\u4e09\u4e2a\u6570\u7ec4\u4e2d\u3002\u5f52\u5e76\u6392\u5e8f\u662f\u4e00\u79cd\u5178\u578b\u7684\u5206\u6cbb\u5e94\u7528\u3002\n",
      "\n",
      "\u5206\u4e24\u6b65\uff1a\u5206\u6bb5 / \u5408\u5e76\n",
      "\n",
      "\u65f6\u95f4\u590d\u6742\u5ea6\u4e3a$ O(NlogN)$, \u4f7f\u7528\u4e86\u7b49\u957f\u7684\u8f85\u52a9\u6570\u7ec4\uff0c\u7a7a\u95f4\u590d\u6742\u5ea6\u4e3a $O(N)$\u3002"
     ]
    },
    {
     "cell_type": "code",
     "collapsed": false,
     "input": [
      "def mergeSort(alist):\n",
      "    if(len(alist) <=1 ):\n",
      "        return alist\n",
      "    mid   = len(alist)/2\n",
      "    left  = mergeSort(alist[:mid])\n",
      "    right = mergeSort(alist[mid:])\n",
      "    return combine(left,right)\n",
      "    \n",
      "    \n",
      "def combine(left,right):\n",
      "    alist = []\n",
      "    l = 0\n",
      "    r = 0\n",
      "    \n",
      "    while l<len(left) and r<len(right):\n",
      "        if left[l]<=right[r]:\n",
      "            alist.append(left[l])\n",
      "            l+=1\n",
      "        else:\n",
      "            alist.append(right[r])\n",
      "            r+=1\n",
      "    \n",
      "    while l<len(left):\n",
      "        alist.append(left[l])\n",
      "        l+=1\n",
      "    \n",
      "    while r<len(right):\n",
      "        alist.append(right[r])\n",
      "        r+=1\n",
      "            \n",
      "    return alist\n",
      "\n",
      "unsortedArray = [6, 5,27, 3, 41,1, 8, 12,7, 2, 4,18]\n",
      "mergeSort(unsortedArray)"
     ],
     "language": "python",
     "metadata": {},
     "outputs": [
      {
       "metadata": {},
       "output_type": "pyout",
       "prompt_number": 5,
       "text": [
        "[1, 2, 3, 4, 5, 6, 7, 8, 12, 18, 27, 41]"
       ]
      }
     ],
     "prompt_number": 5
    },
    {
     "cell_type": "markdown",
     "metadata": {},
     "source": [
      "## quick-sort \u5feb\u901f\u6392\u5e8f \n",
      "\n",
      "\u6838\u5fc3\uff1a\u5feb\u6392\u662f\u4e00\u79cd\u91c7\u7528\u5206\u6cbb\u601d\u60f3\u7684\u6392\u5e8f\u7b97\u6cd5\uff0c\u5927\u81f4\u5206\u4e3a\u4e09\u4e2a\u6b65\u9aa4\u3002\n",
      "\n",
      "1. \u5b9a\u57fa\u51c6\u2014\u2014\u9996\u5148\u968f\u673a\u9009\u62e9\u4e00\u4e2a\u5143\u7d20\u6700\u4e3a\u57fa\u51c6\n",
      "2. \u5212\u5206\u533a\u2014\u2014\u6240\u6709\u6bd4\u57fa\u51c6\u5c0f\u7684\u5143\u7d20\u7f6e\u4e8e\u57fa\u51c6\u5de6\u4fa7\uff0c\u6bd4\u57fa\u51c6\u5927\u7684\u5143\u7d20\u7f6e\u4e8e\u53f3\u4fa7\n",
      "3. \u9012\u5f52\u8c03\u7528\u2014\u2014\u9012\u5f52\u5730\u8c03\u7528\u6b64\u5207\u5206\u8fc7\u7a0b\n",
      "\n",
      "\n",
      "### out-in-place \u975e\u539f\u5730\u6392\u5e8f\n",
      "\n",
      "\u300e\u9012\u5f52 + \u975e\u539f\u5730\u6392\u5e8f\u300f\u7684\u5b9e\u73b0\u867d\u7136\u7b80\u5355\u6613\u61c2\uff0c\u4f46\u662f\u5982\u6b64\u4e00\u6765\u300e\u5feb\u901f\u6392\u5e8f\u300f\u4fbf\u4e0d\u518d\u662f\u6700\u5feb\u7684\u901a\u7528\u6392\u5e8f\u7b97\u6cd5\u4e86\uff0c\u56e0\u4e3a\u9012\u5f52\u8c03\u7528\u8fc7\u7a0b\u4e2d\u975e\u539f\u5730\u6392\u5e8f\u9700\u8981\u751f\u6210\u65b0\u6570\u7ec4\uff0c\u7a7a\u95f4\u590d\u6742\u5ea6\u9887\u9ad8\u3002list comprehension \u5927\u6cd5\u867d\u7136\u597d\u5199\uff0c\u4f46\u662f\u7528\u5728\u300e\u5feb\u901f\u6392\u5e8f\u300f\u7b97\u6cd5\u4e0a\u5c31\u4e0d\u662f\u90a3\u4e48\u53ef\u53d6\u4e86\u3002"
     ]
    },
    {
     "cell_type": "code",
     "collapsed": false,
     "input": [
      "def qsort1(alist):\n",
      "    if len(alist)<=1:\n",
      "        return alist\n",
      "    privot = alist[0]\n",
      "    \n",
      "    # \u4e0b\u9762\u7684\u505a\u6cd5\u7528\u5230\u4e86list\u7684\u5408\u5e76\uff0c\u8fd9\u4e9b\u8bed\u8a00\u5e95\u5c42\u5176\u5b9e\u6ca1\u4ec0\u4e48\u8ba1\u6570\u542b\u91cf\n",
      "    # \u5b8c\u5168\u53ef\u4ee5\u7528\u9ad8\u7ea7\u8bed\u8a00\u7684\u5e93\u53d6\u4ee3\uff0c\u6211\u6ca1\u6709\u5fc5\u8981\u53bb\u5b9e\u73b0\u8fd9\u4e9b\u5e95\u5c42\n",
      "    return qsort1([item for item in alist[1:] if item<privot]) + \\\n",
      "            [privot] + \\\n",
      "            qsort1([item for item in alist[1:] if item>privot])\n",
      "\n",
      "unsortedArray = [6, 5, 3, 1, 8, 7, 2, 4]\n",
      "print(qsort1(unsortedArray))        "
     ],
     "language": "python",
     "metadata": {},
     "outputs": [
      {
       "output_type": "stream",
       "stream": "stdout",
       "text": [
        "[1, 2, 3, 4, 5, 6, 7, 8]\n"
       ]
      }
     ],
     "prompt_number": 1
    },
    {
     "cell_type": "markdown",
     "metadata": {},
     "source": [
      "#### \u975e\u539f\u5730\u6392\u5e8f\u590d\u6742\u5ea6\u5206\u6790 \n",
      "\n",
      "\u5728\u6700\u597d\u7684\u60c5\u51b5\u4e0b\uff0c\u5feb\u901f\u6392\u5e8f\u7684\u57fa\u51c6\u5143\u7d20\u6b63\u597d\u662f\u6b63\u597d\u662f\u6574\u4e2a\u6570\u7ec4\u7684\u4e2d\u4f4d\u6570\uff0c\u53ef\u4ee5\u8fd1\u4f3c\u4e3a\u4e8c\u5206\uff0c\u6700\u597d\u60c5\u51b5\u4e0b\u9012\u5f52\u7684\u5c42\u6570\u4e3a$logn$. \n",
      "\n",
      "\u90a3\u4e48\u5bf9\u4e8e\u9012\u5f52\u975e\u539f\u5730\u5feb\u6392\u6765\u8bf4\uff0c\u6700\u597d\u7684\u60c5\u51b5\u4e0b\uff0c\u6bcf\u5f80\u4e0b\u9012\u5f52\u4e00\u5c42\uff0c\u6240\u9700\u8981\u7684\u5b58\u50a8\u7a7a\u95f4\u662f\u4e0a\u4e00\u5c42\u7684\u4e00\u534a,\u5b8c\u6210\u6700\u5e95\u5c42\u8c03\u7528\u540e\u5c31\u5411\u4e0a\u8fd4\u56de\u6267\u884c\u51fa\u6808\u64cd\u4f5c\uff0c\u6545\u5e76\u4e0d\u9700\u8981\u4fdd\u5b58\u672c\u5c42\u6240\u6709\u5143\u7d20\u7684\u503c(\u7a7a\u95f4\u91cd\u7528)\uff0c\u6240\u4ee5\u9700\u8981\u7684\u5b58\u50a8\u7a7a\u95f4\u5c31\u662f $ \\sum^{log_2n}_{i=0} \\frac{n}{2^i} = n*2*(1-\\frac{1}{n}) = 2n$\n",
      "\n",
      "\n",
      "![hehe](http://algorithm.yuanbin.me/shared-files/images/qsort1.png)\n",
      "\n",
      "\n",
      "\u90a3\u4e48\u6700\u574f\u7684\u60c5\u51b5\u5c31\u662f\uff0c\u6bcf\u6b21\u9009\u7684\u57fa\u51c6\u5143\u7d20\u5c31\u662f\u6574\u4e2a\u6570\u7ec4\u7684\u6700\u503c\uff0c\u8fd9\u6837\u9012\u5f52\u7684\u5c42\u6570\u5c31\u662fn-1\u6b21\n",
      "\n",
      "\u90a3\u4e48\u5bf9\u4e8e\u9012\u5f52\u975e\u539f\u5730\u5feb\u6392\u6765\u8bf4\uff0c\u6700\u574f\u7684\u60c5\u51b5\u662f\u7b2ci\u5c42\u7684\u7a7a\u95f4\u4f4dn-i+1,\u603b\u7684\u7a7a\u95f4\u4f4d$ \\sum^{n-1}_{i=0} n-i+1= \\frac{n(n+1)}{2}=O(n^2)  $\n",
      "\n",
      "---\n",
      "\n",
      "### in-palce \u539f\u5730\u6392\u5e8f\n",
      "\n",
      "\u8fc7\u7a0b\u4e2d\u63a7\u52364\u4e2a\u4e0b\u6807:\n",
      "- l \u5f85\u6392\u5e8f\u90e8\u5206\u7684\u4e0b\u754c\n",
      "- u \u5f85\u6392\u5e8f\u90e8\u5206\u7684\u4e0a\u754c\n",
      "- m \u4e0d\u5927\u4e8e\u57fa\u51c6\u5143\u7d20\u7684\u6700\u540e\u4e00\u4e2a\u4f4d\u7f6e\uff0c\u5728\u904d\u5386\u7ed3\u675f\u540e\u4e0e\u57fa\u51c6\u5143\u7d20\u4f4d\u7f6e\u4ea4\u6362 \n",
      "- i \u904d\u5386\u7684\u5143\u7d20\u4e0b\u6807\uff0c\u4ecel\u5230u\n",
      "\n",
      "![](http://algorithm.yuanbin.me/shared-files/images/qsort2.png)"
     ]
    },
    {
     "cell_type": "code",
     "collapsed": false,
     "input": [
      "def qsort2(alist,l,u):\n",
      "    # \u9012\u5f52\u7ed3\u675f\u6761\u4ef6\n",
      "    if l>=u:\n",
      "        return \n",
      "    \n",
      "    # \u521d\u59cb\u5316\u51e0\u4e2a\u4e0b\u6807\n",
      "    m=l\n",
      "    \n",
      "    privot = alist[l]\n",
      "    for i in xrange(l+1,u+1):\n",
      "        if alist[i]<privot:\n",
      "            m+=1\n",
      "            # \u628a\u6bd4\u57fa\u51c6\u5143\u7d20\u5c0f\u7684\u632a\u5230\u524d\u534a\u90e8\u5206\n",
      "            alist[m],alist[i] = alist[i],alist[m]\n",
      "    \n",
      "    alist[m],alist[l] = alist[l],alist[m]\n",
      "    \n",
      "    qsort2(alist,l,m-1) #\n",
      "    qsort2(alist,m+1,u) #\u5fc5\u987b\u8fd9\u6837\u5426\u5219\u5982\u679c\u5e8f\u5217\u5df2\u7ecf\u662f\u6709\u5e8f\u7684\u5c31\u4f1a\u8fdb\u5165\u6b7b\u5faa\u73af\n",
      "    \n",
      "    return alist\n",
      "    \n",
      "unsortedArray = [6, 5, 3, 1, 8, 6, 2, 4,6]\n",
      "qsort2(unsortedArray, 0, len(unsortedArray) - 1)\n",
      "unsortedArray\n"
     ],
     "language": "python",
     "metadata": {},
     "outputs": [
      {
       "metadata": {},
       "output_type": "pyout",
       "prompt_number": 2,
       "text": [
        "[1, 2, 3, 4, 5, 6, 6, 6, 8]"
       ]
      }
     ],
     "prompt_number": 2
    },
    {
     "cell_type": "markdown",
     "metadata": {},
     "source": [
      "## Two-way partitioning \u4e24\u8def\u5206\u5757\n",
      "\n",
      "\u9009\u62e9\u4e00\u4e2a\u57fa\u51c6\u5143\u7d20\u653e\u5728\u5f00\u5934\uff0c\u5728\u4e24\u7aef\u5f00\u59cb\u904d\u5386\uff0c\u5f53l\u7aef\u627e\u5230\u5927\u4e8e\u57fa\u4e8e\u5143\u7d20\u7684\u4f4d\u7f6e\u505c\u4e0b\u6765\uff0c\u5f53r\u7aef\u627e\u5230\u4e0d\u5c0f\u4e8e\u57fa\u51c6\u5143\u7d20\u7684\u4f4d\u7f6e\u505c\u4e0b\u6765\uff0c\u4e24\u8005\u8fdb\u884c\u4ea4\u6362\uff0c\u76f4\u5230\u4e24\u8005\u4ea4\u53c9\u6216\u8005\u76f8\u7b49\uff0c\u90a3\u4e48\u8fd9\u4e2a\u5b83r\u7684\u4f4d\u7f6e\u5c31\u662f\u57fa\u51c6\u5143\u7d20\u7684\u4f4d\u7f6e\n",
      "\n",
      "\n"
     ]
    },
    {
     "cell_type": "code",
     "collapsed": false,
     "input": [
      "import random\n",
      "def qsort3(alist,lower,upper):\n",
      "    if(lower >= upper):\n",
      "        return \n",
      "    idx = random.randint(lower,upper)\n",
      "    alist[lower],alist[idx]=alist[idx],alist[lower]\n",
      "    privot = alist[lower]\n",
      "    left,right = lower+1,upper\n",
      "    while left<=right:  # \u7b49\u4e8e\u7684\u65f6\u5019\u4f9d\u7136\u8981\u7ee7\u7eed\u56e0\u4e3a\u8fd8\u6ca1\u5212\u5b9a\u8fb9\u754c\uff0c\u6700\u540e\u9000\u51fa\u5faa\u73af\u7684\u65f6\u5019\u4e00\u5b9a\u662f\u4ea4\u53c9\u7684\uff0cr\u7684\u53f3\u8fb9\u90fd\u662f\u4e0d\u5c0f\u4e8e\u57fa\u51c6\u7684,l\u7684\u5de6\u8fb9\u90fd\u662f\u5c0f\u4e8e\u57fa\u51c6\u7684\n",
      "        while left <= right and alist[left]<privot:\n",
      "            left+=1\n",
      "        while right >=left and alist[right]>=privot:\n",
      "            right-=1\n",
      "\n",
      "        # \u5faa\u73af\u5230\u8fd9\u91cc\u8981\u4e48\u662f\u4ea4\u53c9\u4e86\uff0c\u8981\u4e48\u662f\u627e\u5230\u5408\u9002\u7684\u4f4d\u7f6e\u4e86\n",
      "        if left<right:\n",
      "            alist[left],alist[right] = alist[right],alist[left]\n",
      "            left+=1\n",
      "            right-=1\n",
      "        #print alist\n",
      "    alist[lower],alist[right] = alist[right],alist[lower]\n",
      "    qsort3(alist,lower,right-1)\n",
      "    qsort3(alist,right+1,upper)\n",
      "    \n",
      "unsortedArray = [6, 5, 3,4, 1, 7,8, 7, 3,2, 4]\n",
      "qsort3(unsortedArray, 0, len(unsortedArray) - 1)\n",
      "unsortedArray\n",
      "    \n",
      "    \n",
      "    "
     ],
     "language": "python",
     "metadata": {},
     "outputs": [
      {
       "metadata": {},
       "output_type": "pyout",
       "prompt_number": 31,
       "text": [
        "[1, 2, 3, 3, 4, 4, 5, 6, 7, 7, 8]"
       ]
      }
     ],
     "prompt_number": 31
    },
    {
     "cell_type": "markdown",
     "metadata": {},
     "source": [
      "### \u968f\u673a\u5206\u533a\n",
      "\n",
      "\u5982\u679c\u5f85\u6392\u5e8f\u5217\u6b63\u597d\u662f\u987a\u5e8f\u7684\u65f6\u5019\uff0c\u6574\u4e2a\u7684\u9012\u5f52\u5c06\u4f1a\u8fbe\u5230\u6700\u5927\u9012\u5f52\u6df1\u5ea6\uff08\u5e8f\u5217\u7684\u957f\u5ea6\uff09\u3002\u800c\u5b9e\u9645\u4e0a\u5728\u64cd\u4f5c\u7684\u65f6\u5019\uff0c\u5f53\u5217\u8868\u957f\u5ea6\u5927\u4e8e1000\uff08\u7406\u8bba\u503c\uff09\u7684\u65f6\u5019\uff0c\u7a0b\u5e8f\u4f1a\u4e2d\u65ad\uff0c\u62a5\u8d85\u51fa\u6700\u5927\u9012\u5f52\u6df1\u5ea6\u7684\u9519\u8bef\uff08maximum recursion depth exceeded\uff09\u3002\u5728\u67e5\u8fc7\u8d44\u6599\u540e\u6211\u4eec\u77e5\u9053\uff0cPython\u5728\u9ed8\u8ba4\u60c5\u51b5\u4e0b\uff0c\u6700\u5927\u9012\u5f52\u6df1\u5ea6\u4e3a1000\uff08\u7406\u8bba\u503c\uff0c\u5176\u5b9e\u771f\u5b9e\u60c5\u51b5\u4e0b\uff0c\u53ea\u6709995\u5de6\u53f3\uff0c\u5404\u4e2a\u7cfb\u7edf\u8fd9\u4e2a\u503c\u7684\u5927\u5c0f\u4e5f\u4e0d\u540c\uff09\u3002\n",
      "\u8fd9\u4e2a\u95ee\u9898\u6709\u4e24\u79cd\u89e3\u51b3\u65b9\u6848\uff0c\n",
      "1\uff09\u91cd\u65b0\u8bbe\u7f6e\u6700\u5927\u9012\u5f52\u6df1\u5ea6\uff0c\u91c7\u7528\u4ee5\u4e0b\u65b9\u6cd5\u8bbe\u7f6e\uff1a\n",
      "\t\n",
      ">import sys\n",
      "\n",
      ">sys.setrecursionlimit(99999)\n",
      "\n",
      "2\uff09\u7b2c\u4e8c\u79cd\u65b9\u6cd5\u5c31\u662f\u91c7\u7528\u53e6\u5916\u4e00\u4e2a\u7248\u672c\u7684\u5206\u533a\u51fd\u6570\uff0c\u79f0\u4e3a\u968f\u673a\u5316\u5206\u533a\u51fd\u6570\u3002\u7531\u4e8e\u4e4b\u524d\u6211\u4eec\u7684\u9009\u62e9\u90fd\u662f\u5b50\u5e8f\u5217\u7684\u7b2c\u4e00\u4e2a\u6570\uff0c\u56e0\u6b64\u5bf9\u4e8e\u7279\u6b8a\u60c5\u51b5\u7684\u5065\u58ee\u6027\u5c31\u5dee\u4e86\u8bb8\u591a\u3002\u73b0\u5728\u6211\u4eec\u968f\u673a\u4ece\u5b50\u5e8f\u5217\u9009\u62e9\u57fa\u51c6\u5143\u7d20\uff0c\u8fd9\u6837\u53ef\u4ee5\u51cf\u5c11\u5bf9\u7279\u6b8a\u60c5\u51b5\u7684\u5dee\u9519\u7387\u3002\n",
      "\n",
      ">i = random.randint(p, r)\n"
     ]
    },
    {
     "cell_type": "markdown",
     "metadata": {},
     "source": [
      "# Heap Sort - \u5806\u6392\u5e8f\n",
      "\n",
      "\u5806\u6392\u5e8f\u7684\u5b9e\u73b0\u8fc7\u7a0b\u5206\u4e3a\u4e24\u4e2a\u5b50\u8fc7\u7a0b\u3002\u7b2c\u4e00\u6b65\u4e3a\u53d6\u51fa\u5927\u6839\u5806\u7684\u6839\u8282\u70b9(\u5f53\u524d\u5806\u7684\u6700\u5927\u503c), \u7531\u4e8e\u53d6\u8d70\u4e86\u4e00\u4e2a\u8282\u70b9\uff0c\u6545\u7b2c\u4e8c\u6b65\u9700\u8981\u5bf9\u4f59\u4e0b\u7684\u5143\u7d20\u91cd\u65b0\u5efa\u5806\u3002\u91cd\u65b0\u5efa\u5806\u540e\u7ee7\u7eed\u53d6\u6839\u8282\u70b9\uff0c\u5faa\u73af\u76f4\u81f3\u53d6\u5b8c\u6240\u6709\u8282\u70b9\uff0c\u6b64\u65f6\u6570\u7ec4\u5df2\u7ecf\u6709\u5e8f\u3002\n",
      "\n",
      "\u5806\u7684\u5b9e\u73b0\u901a\u8fc7\u6784\u9020\u4e8c\u53c9\u5806\uff08binary heap\uff09\uff0c\u5b9e\u4e3a\u4e8c\u53c9\u6811\u7684\u4e00\u79cd\uff1b\u7531\u4e8e\u5176\u5e94\u7528\u7684\u666e\u904d\u6027\uff0c\u5f53\u4e0d\u52a0\u9650\u5b9a\u65f6\uff0c\u5747\u6307\u8be5\u6570\u636e\u7ed3\u6784\u7684\u8fd9\u79cd\u5b9e\u73b0\u3002\u8fd9\u79cd\u6570\u636e\u7ed3\u6784\u5177\u6709\u4ee5\u4e0b\u6027\u8d28\u3002\n",
      "\n",
      "- \u4efb\u610f\u8282\u70b9\u5c0f\u4e8e\uff08\u6216\u5927\u4e8e\uff09\u5b83\u7684\u6240\u6709\u540e\u88d4\uff0c\u6700\u5c0f\u5143\uff08\u6216\u6700\u5927\u5143\uff09\u5728\u5806\u7684\u6839\u4e0a\uff08\u5806\u5e8f\u6027\uff09\u3002\n",
      "- \u5806\u603b\u662f\u4e00\u68f5\u5b8c\u5168\u6811\u3002\u5373\u9664\u4e86\u6700\u5e95\u5c42\uff0c\u5176\u4ed6\u5c42\u7684\u8282\u70b9\u90fd\u88ab\u5143\u7d20\u586b\u6ee1\uff0c\u4e14\u6700\u5e95\u5c42\u5c3d\u53ef\u80fd\u5730\u4ece\u5de6\u5230\u53f3\u586b\u5165\u3002\n",
      "\n",
      "\n",
      "\u9700\u8981\u6ce8\u610f\u7684\u662f\uff0c\u5806\u662f\u7528\u6570\u7ec4\u4fdd\u5b58\u7684\uff0c\u6240\u4ee5\u6839\u7ed3\u70b9\u5728\u4e0b\u6807\u4e3a0\u7684\u4f4d\u5b50\uff0c\u53c8\u56e0\u4e3a\u4e8c\u53c9\u5806\u662f\u5b8c\u5168\u4e8c\u53c9\u6811\uff0c\u6240\u4ee5\u4e0b\u6807\u4f4dn/2\u7684\u5730\u65b9\u662f\u4e8c\u53c9\u6811\u91cc\u9762\u6700\u540e\u4e00\u4e2a\u975e\u53f6\u5b50\u7ed3\u70b9\u7684\u5730\u65b9(\u6709\u5b50\u7ed3\u70b9)\uff0c\u6240\u4ee5\u5728\u5efa\u7acb\u5927\u9876\u5806\u7684\u65f6\u5019\uff0c\u81ea\u5e95\u5411\u4e0a\u7528\u4e0b\u6ee4\u7684\u65b9\u6cd5\u5efa\u7acb\u5404\u4e2a\u5c0f\u6811\uff0c\u5efa\u6bcf\u4e2a\u5c0f\u6811\u7528\u65f6$log(i)$,\u5171\u5efa\u4e86$\\frac{n}{2} $\u4e2a\u5c0f\u6811\n",
      "\n",
      "\n",
      "\u5efa\u7acb\u5927\u9876\u5806\u6709\u4e24\u79cd\u65b9\u6cd5 :\n",
      "\n",
      "1. \u81ea\u5e95\u5411\u4e0a\uff0c\u5148\u968f\u4fbf\u628a\u8fd9\u4e9b\u6570\u636e\u653e\u5728\u4e00\u4e2a\u6570\u7ec4\u91cc\u9762\uff0c\u7136\u540e\u4ece\u6700\u6df1\u4e00\u5c42\u7684**\u7236**\u8282\u70b9\u5f00\u59cb\u81ea\u5e95\u5411\u4e0a\u4e0b\u6ee4\u64cd\u4f5c\n",
      "2. \u81ea\u9876\u5411\u4e0b\uff0c\u5148\u5efa\u4e00\u4e2a\u7a7a\u7684\u5806\uff0c\u7136\u540e\u6162\u6162\u5728\u6700\u540e\u4f4d\u7f6e\u63d2\u5165\u65b0\u5143\u7d20\uff0c\u5e76\u8ba9\u5b83\u5411\u4e0a\u6ee4\n",
      "\n",
      "\u6b65\u9aa4\uff1a\n",
      "\n",
      "- \u6784\u9020\u6700\u5927\u5806\uff08Build_Max_Heap\uff09\uff1a\u82e5\u6570\u7ec4\u4e0b\u6807\u8303\u56f4\u4e3a0~n\uff0c\u8003\u8651\u5230\u5355\u72ec\u4e00\u4e2a\u5143\u7d20\u662f\u5927\u6839\u5806\uff0c**\u5219\u4ece\u4e0b\u6807n/2\u5f00\u59cb\u7684\u5143\u7d20\u5747\u4e3a\u5927\u6839\u5806**\u3002\u4e8e\u662f\u53ea\u8981\u4ecen/2-1\u5f00\u59cb\uff0c\u5411\u524d\u4f9d\u6b21\u6784\u9020\u5927\u6839\u5806\uff0c\u8fd9\u6837\u5c31\u80fd\u4fdd\u8bc1\uff0c\u6784\u9020\u5230\u67d0\u4e2a\u8282\u70b9\u65f6\uff0c\u5b83\u7684\u5de6\u53f3\u5b50\u6811\u90fd\u5df2\u7ecf\u662f\u5927\u6839\u5806\u3002\n",
      "\n",
      "- \u5806\u6392\u5e8f\uff08HeapSort\uff09\uff1a\u7531\u4e8e\u5806\u662f\u7528\u6570\u7ec4\u6a21\u62df\u7684\u3002\u5f97\u5230\u4e00\u4e2a\u5927\u6839\u5806\u540e\uff0c\u6570\u7ec4\u5185\u90e8\u5e76\u4e0d\u662f\u6709\u5e8f\u7684\u3002\u56e0\u6b64\u9700\u8981\u5c06\u5806\u5316\u6570\u7ec4\u6709\u5e8f\u5316\u3002\u601d\u60f3\u662f\u79fb\u9664\u6839\u8282\u70b9\uff0c\u5e76\u505a\u6700\u5927\u5806\u8c03\u6574\u7684\u9012\u5f52\u8fd0\u7b97\u3002\u7b2c\u4e00\u6b21\u5c06heap[0]\u4e0eheap[n-1]\u4ea4\u6362\uff0c\u518d\u5bf9heap[0...n-2]\u505a\u6700\u5927\u5806\u8c03\u6574\u3002\u7b2c\u4e8c\u6b21\u5c06heap[0]\u4e0eheap[n-2]\u4ea4\u6362\uff0c\u518d\u5bf9heap[0...n-3]\u505a\u6700\u5927\u5806\u8c03\u6574\u3002\u91cd\u590d\u8be5\u64cd\u4f5c\u76f4\u81f3heap[0]\u548cheap[1]\u4ea4\u6362\u3002\u7531\u4e8e\u6bcf\u6b21\u90fd\u662f\u5c06\u6700\u5927\u7684\u6570\u5e76\u5165\u5230\u540e\u9762\u7684\u6709\u5e8f\u533a\u95f4\uff0c\u6545\u64cd\u4f5c\u5b8c\u540e\u6574\u4e2a\u6570\u7ec4\u5c31\u662f\u6709\u5e8f\u7684\u4e86\u3002\n",
      "\n",
      "- \u6700\u5927\u5806\u8c03\u6574\uff08Max_Heapify\uff09\uff1a\u8be5\u65b9\u6cd5\u662f\u63d0\u4f9b\u7ed9\u4e0a\u8ff0\u4e24\u4e2a\u8fc7\u7a0b\u8c03\u7528\u7684\u3002\u76ee\u7684\u662f\u5c06\u5806\u7684\u672b\u7aef\u5b50\u8282\u70b9\u4f5c\u8c03\u6574\uff0c\u4f7f\u5f97\u5b50\u8282\u70b9\u6c38\u8fdc\u5c0f\u4e8e\u7236\u8282\u70b9 \u3002\n",
      "\n",
      "\n",
      "\u6700\u5dee\u65f6\u95f4\u590d\u6742\u5ea6 \t$O ( n log \u2061 n ) $\n",
      "\u6700\u4f18\u65f6\u95f4\u590d\u6742\u5ea6 \t$O ( n log \u2061 n ) $\n",
      "\u5e73\u5747\u65f6\u95f4\u590d\u6742\u5ea6 \t$\u0398 ( n log \u2061 n ) $\n",
      "\n",
      "![](https://upload.wikimedia.org/wikipedia/commons/1/1b/Sorting_heapsort_anim.gif)\n",
      "\n",
      "\n",
      "\u5806\u6392\u5728\u7a7a\u95f4\u6bd4\u8f83\u5c0f(\u5d4c\u5165\u5f0f\u8bbe\u5907\u548c\u624b\u673a)\u65f6\u7279\u522b\u6709\u7528\uff0c\u4f46\u662f\u56e0\u4e3a\u73b0\u4ee3\u7cfb\u7edf\u5f80\u5f80\u6709\u8f83\u591a\u7684\u7f13\u5b58\uff0c\u5806\u6392\u5e8f\u65e0\u6cd5\u6709\u6548\u5229\u7528\u7f13\u5b58\uff0c\u6570\u7ec4\u5143\u7d20\u5f88\u5c11\u548c\u76f8\u90bb\u7684\u5176\u4ed6\u5143\u7d20\u6bd4\u8f83\uff0c\u6545\u7f13\u5b58\u672a\u547d\u4e2d\u7684\u6982\u7387\u8fdc\u5927\u4e8e\u5176\u4ed6\u5728\u76f8\u90bb\u5143\u7d20\u95f4\u6bd4\u8f83\u7684\u7b97\u6cd5\u3002\u4f46\u662f\u5728\u6d77\u91cf\u6570\u636e\u7684\u6392\u5e8f\u4e0b\u53c8\u91cd\u65b0\u53d1\u6325\u4e86\u91cd\u8981\u4f5c\u7528\uff0c\u56e0\u4e3a\u5b83\u5728\u63d2\u5165\u64cd\u4f5c\u548c\u5220\u9664\u6700\u5927\u5143\u7d20\u7684\u6df7\u5408\u52a8\u6001\u573a\u666f\u4e2d\u80fd\u4fdd\u8bc1\u5bf9\u6570\u7ea7\u522b\u7684\u8fd0\u884c\u65f6\u95f4\n",
      "\n"
     ]
    },
    {
     "cell_type": "code",
     "collapsed": false,
     "input": [
      "def heap_sort(alist):\n",
      "    # \u4e0b\u9762\u662f\u4e0b\u6ee4\u7684\u64cd\u4f5c,\u4e0b\u6ee4\u7684\u524d\u63d0\u662f\u4fdd\u8bc1\u4e0b\u9762\u7684\u5b50\u6811\u662f\u5df2\u7ecf\u5efa\u597d\u7684\u5b50\u6811 \n",
      "    def sink(alist,i,length):\n",
      "        largest = i\n",
      "\n",
      "        if (2*i+1)<length and alist[2*i+1]>alist[largest]:\n",
      "            largest = 2*i+1\n",
      "        if (2*i+2)<length and alist[2*i+2]>alist[largest]:\n",
      "            largest = 2*i+2\n",
      "        \n",
      "        if largest != i:\n",
      "            alist[largest],alist[i] = alist[i],alist[largest]\n",
      "            sink(alist,largest,length)\n",
      "    \n",
      "    # \u4e0b\u9762\u5f00\u59cb\u5806\u6392\u5e8f\u7684\u64cd\u4f5c\uff0c\u4ece\u6700\u6df1\u4e00\u5c42\u7684\u7236\u8282\u70b9\u5f00\u59cb\u5faa\u73af\uff0c\u8fd9\u6837\u53ef\u4ee5\u4fdd\u8bc1\u4e0b\u6ee4\u7684\u65f6\u5019\uff0c\u4e0b\u9762\u90fd\u662f\u6392\u597d\u5e8f\u7684\u5b57\u8282\u70b9\n",
      "    \n",
      "    # \u5148\u5efa\u7acb\u5927\u9876\u5806 \n",
      "    # n/2\u8868\u793a\u6700\u540e\u4e00\u4e2a\u975e\u53f6\u7ed3\u70b9  \n",
      "    for i in xrange(len(alist)/2,-1,-1): #\u5012\u5e8f\u52300\uff0c\u6240\u4ee5\u7b2c\u4e8c\u4f4d\u8bbe\u7f6e\u4e3a-1\n",
      "        sink(alist,i,len(alist))\n",
      "    \n",
      "    # \u7136\u540e\u4e0d\u65ad\u5e95\u6458\u6389\u9876\n",
      "    length = len(alist)\n",
      "    for i in xrange(0,len(alist)):\n",
      "        alist[0],alist[length-1] = alist[length-1],alist[0]\n",
      "        length-=1\n",
      "        sink(alist,0,length)\n",
      "    \n",
      "    return alist\n",
      "\n",
      "\n",
      "\n",
      "unsortedArray = [6, 5, 3,13, 1, 8,28, 7, 2, 4]\n",
      "sortedArray = heap_sort(unsortedArray)\n",
      "sortedArray\n"
     ],
     "language": "python",
     "metadata": {},
     "outputs": [
      {
       "metadata": {},
       "output_type": "pyout",
       "prompt_number": 17,
       "text": [
        "[1, 2, 3, 4, 5, 6, 7, 8, 13, 28]"
       ]
      }
     ],
     "prompt_number": 17
    },
    {
     "cell_type": "markdown",
     "metadata": {},
     "source": [
      "\n",
      "**\u5806\u6392\u5e8f\u5728 top K \u95ee\u9898\u4e2d\u4f7f\u7528\u6bd4\u8f83\u9891\u7e41**\u3002\u5806\u6392\u5e8f\u662f\u91c7\u7528\u4e8c\u53c9\u5806\u7684\u6570\u636e\u7ed3\u6784\u6765\u5b9e\u73b0\u7684\uff0c\u867d\u7136\u5b9e\u8d28\u4e0a\u8fd8\u662f\u4e00\u7ef4\u6570\u7ec4\u3002\u4e8c\u53c9\u5806\u662f\u4e00\u4e2a\u8fd1\u4f3c\u5b8c\u5168\u4e8c\u53c9\u6811 \u3002\n",
      "\n",
      "\n",
      "[\u5806\u6392\u5e8f\u89e3\u51b3Top K\u95ee\u9898](http://blog.csdn.net/feliciafay/article/details/12252727)"
     ]
    },
    {
     "cell_type": "code",
     "collapsed": false,
     "input": [
      "import heapq\n",
      "\n",
      "heapq.nlargest(2,[9,5,12,38,32,21,1,-23])\n",
      "heapq.nsmallest(2,[9,5,12,38,32,21,1,-23])"
     ],
     "language": "python",
     "metadata": {},
     "outputs": [
      {
       "metadata": {},
       "output_type": "pyout",
       "prompt_number": 38,
       "text": [
        "[-23, 1]"
       ]
      }
     ],
     "prompt_number": 38
    },
    {
     "cell_type": "markdown",
     "metadata": {},
     "source": [
      "[[\u7ecf\u5178\u6392\u5e8f\u7b97\u6cd5][\u96c6\u9526]](http://www.cnblogs.com/kkun/archive/2011/11/23/2260312.html)\n",
      "\n",
      "\n",
      "![](http://ww1.sinaimg.cn/large/81b78497jw1emncvtdf1qj20u10afn0r.jpg)"
     ]
    },
    {
     "cell_type": "markdown",
     "metadata": {},
     "source": [
      "\u5bf9\u4e8e\u6bd4\u8f83\u6392\u5e8f\u7b97\u6cd5\uff0c\u6211\u4eec\u77e5\u9053\uff0c\u53ef\u4ee5\u628a\u6240\u6709\u53ef\u80fd\u51fa\u73b0\u7684\u60c5\u51b5\u753b\u6210\u4e8c\u53c9\u6811\uff08\u51b3\u7b56\u6811\u6a21\u578b\uff09\uff0c\u5bf9\u4e8en\u4e2a\u957f\u5ea6\u7684\u5217\u8868\uff0c\u5176\u51b3\u7b56\u6811\u7684\u9ad8\u5ea6\u4e3ah\uff0c\u53f6\u5b50\u8282\u70b9\u5c31\u662f\u8fd9\u4e2a\u5217\u8868\u4e71\u5e8f\u7684\u5168\u90e8\u53ef\u80fd\u6027\u4e3an!\uff0c\u800c\u6211\u4eec\u77e5\u9053\uff0c\u8fd9\u4e2a\u4e8c\u53c9\u6811\u7684\u53f6\u5b50\u8282\u70b9\u4e0d\u4f1a\u8d85\u8fc72^h\uff0c\u6240\u4ee5\u67092^h>=n\uff01\uff0c\u53d6\u5bf9\u6570\uff0c\u53ef\u4ee5\u77e5\u9053\uff0ch>=logn!\uff0c\u8fd9\u4e2a\u662f\u8fd1\u4f3c\u4e8eO(nlogn)\u3002\u4e5f\u5c31\u662f\u8bf4\u6bd4\u8f83\u6392\u5e8f\u7b97\u6cd5\u7684\u6700\u597d\u6027\u80fd\u5c31\u662fO(nlgn)\u3002\n",
      "\n",
      "\u90a3\u6709\u6ca1\u6709\u7ebf\u6027\u65f6\u95f4\uff0c\u4e5f\u5c31\u662f\u65f6\u95f4\u590d\u6742\u5ea6\u4e3aO(n)\u7684\u7b97\u6cd5\u5462\uff1f\u7b54\u6848\u662f\u80af\u5b9a\u7684\u3002\u4e0d\u8fc7\u7531\u4e8e\u6392\u5e8f\u5728\u5b9e\u9645\u5e94\u7528\u4e2d\u7b97\u6cd5\u5176\u5b9e\u662f\u975e\u5e38\u590d\u6742\u7684\u3002\u8fd9\u91cc\u53ea\u662f\u8ba8\u8bba\u5728\u4e00\u4e9b\u7279\u6b8a\u60c5\u5f62\u4e0b\u7684\u7ebf\u6027\u6392\u5e8f\u7b97\u6cd5\u3002\u7279\u6b8a\u60c5\u5f62\u4e0b\u7684\u7ebf\u6027\u6392\u5e8f\u7b97\u6cd5\u4e3b\u8981\u6709\u8ba1\u6570\u6392\u5e8f\uff0c\u6876\u6392\u5e8f\u548c\u57fa\u6570\u6392\u5e8f\u3002\u8fd9\u91cc\u53ea\u7b80\u5355\u8bf4\u4e00\u4e0b\u8ba1\u6570\u6392\u5e8f\u3002\n",
      "\n",
      "[\u7528Python\u5b9e\u73b0\u5e38\u89c1\u6392\u5e8f\u7b97\u6cd5](http://www.cnblogs.com/chineking/archive/2011/05/24/implement-sort-algorithm-with-python.html)\n",
      "\n",
      "---\n",
      "\n",
      "\n",
      "## \u6876\u6392\u5e8fBucket sort\n",
      "\n",
      "[\u7ecf\u5178\u6392\u5e8f\u7b97\u6cd5 - \u6876\u6392\u5e8fBucket sort](http://www.cnblogs.com/kkun/archive/2011/11/23/bucket_sort.html#3438183)\n",
      "\n",
      "\u8865\u5145\u8bf4\u660e\u4e09\u70b9\n",
      "\n",
      "1. \u6876\u6392\u5e8f\u662f\u7a33\u5b9a\u7684\n",
      "\n",
      "2. \u6876\u6392\u5e8f\u662f**\u5e38\u89c1\u6392\u5e8f\u91cc\u6700\u5feb\u7684\u4e00\u79cd**,\u6bd4\u5feb\u6392\u8fd8\u8981\u5feb\u2026\u5927\u591a\u6570\u60c5\u51b5\u4e0b\n",
      "\n",
      "3. \u6876\u6392\u5e8f\u975e\u5e38\u5feb,\u4f46\u662f\u540c\u65f6\u4e5f**\u975e\u5e38\u8017\u7a7a\u95f4,\u57fa\u672c\u4e0a\u662f\u6700\u8017\u7a7a\u95f4\u7684\u4e00\u79cd\u6392\u5e8f**\u7b97\u6cd5\n",
      "\n",
      "\n",
      "\u4f46\u6876\u6392\u5e8f\u662f\u6709\u8981\u6c42\u7684\uff0c\u5c31\u662f\u6570\u7ec4\u5143\u7d20\u96b6\u5c5e\u4e8e**\u56fa\u5b9a(\u6709\u9650\u7684)\u7684\u533a\u95f4**,\u5982\u8303\u56f4\u4e3a[0-9] (\u8003\u8bd5\u5206\u6570\u4e3a1-100\u7b49),\u6709\u65f6\u5019\u60f3\u7740\u611f\u89c9\u6876\u6392\u5e8f\u7684\u7b2c\u4e00\u6b65\u5165\u6876\u64cd\u4f5c\u548c\u54c8\u5e0c\u8868\u7684\u6784\u9020\u6709\u70b9\u50cf\u5462 \n",
      "\n",
      "\n",
      "\u5047\u8bbe\u6570\u636e\u5206\u5e03\u5728[0\uff0c100)\u4e4b\u95f4\uff0c\u6bcf\u4e2a\u6876\u5185\u90e8\u7528\u94fe\u8868\u8868\u793a\uff0c\u5728\u6570\u636e\u5165\u6876\u7684\u540c\u65f6\u63d2\u5165\u6392\u5e8f\u3002\u7136\u540e\u628a\u5404\u4e2a\u6876\u4e2d\u7684\u6570\u636e\u5408\u5e76\u3002\n",
      "\n",
      "\n",
      "![](http://images.cnblogs.com/cnblogs_com/kkun/201111/201111251834158044.png)\n"
     ]
    },
    {
     "cell_type": "code",
     "collapsed": false,
     "input": [
      "import numpy as np\n",
      "\n",
      "def bucket_sort(alist):\n",
      "    # \u4e0b\u9762\u662f\u5165\u6876\u7684\u8fc7\u7a0b\n",
      "    dic = dict()\n",
      "    for item in alist:\n",
      "        if item in dic:\n",
      "            dic[item].append(item)\n",
      "        else:\n",
      "            dic[item]=[]\n",
      "            dic[item].append(item)\n",
      "    # \u4e0b\u9762\u662f\u5f52\u5e76\u7684\u8fc7\u7a0b\n",
      "    \n",
      "    result = []    \n",
      "    for key,items in dic.items():\n",
      "        for i in items:\n",
      "            result.append(i)\n",
      "    return result\n",
      "\n",
      "\n",
      "\n",
      "unsortedArray = [6, 5, 3,5, 6, 5,3, 7, 3, 6]\n",
      "sortedArray = bucket_sort(unsortedArray)\n",
      "print sortedArray\n"
     ],
     "language": "python",
     "metadata": {},
     "outputs": [
      {
       "output_type": "stream",
       "stream": "stdout",
       "text": [
        "[3, 3, 3, 5, 5, 5, 6, 6, 6, 7]\n"
       ]
      }
     ],
     "prompt_number": 20
    },
    {
     "cell_type": "markdown",
     "metadata": {},
     "source": [
      "## \u8ba1\u6570\u6392\u5e8f\n",
      "\n",
      "\u8ba1\u6570\u6392\u5e8f\u662f\u5efa\u7acb\u5728\u5bf9\u5f85\u6392\u5e8f\u5217\u8fd9\u6837\u7684\u5047\u8bbe\u4e0b\uff1a\u5047\u8bbe**\u5f85\u6392\u5e8f\u5217\u90fd\u662f\u6b63\u6574\u6570**(\u505a\u4e0b\u6807\u6765\u7528)\u3002\u9996\u5148\uff0c\u58f0\u660e\u4e00\u4e2a\u65b0\u5e8f\u5217list2\uff0c\u5e8f\u5217\u7684\u957f\u5ea6\u4e3a\u5f85\u6392\u5e8f\u5217\u4e2d\u7684\u6700\u5927\u6570\uff08\u53ef\u4ee5\u901a\u8fc7\u5efa\u7acb\u5927\u9876\u5806\u83b7\u5f97\uff09\u3002\u904d\u5386\u5f85\u6392\u5e8f\u5217\uff0c\u5bf9\u6bcf\u4e2a\u6570\uff0c\u8bbe\u5176\u5927\u5c0f\u4e3ai\uff0clist2[i]++\uff0c\u8fd9\u76f8\u5f53\u4e8e\u8ba1\u6570\u5927\u5c0f\u4e3ai\u7684\u6570\u51fa\u73b0\u7684\u6b21\u6570\u3002\u7136\u540e\u5728\u4f9d\u6b21\u52a0\u4e0a\u524d\u9762\u7684\u6570\uff0c\u5c31\u77e5\u9053\u6700\u7ec8\u8fd9\u4e2a\u6570\u5e94\u8be5\u6392\u5728\u54ea\u91cc\u4e86\uff0c\u7136\u540e\uff0c\u7533\u8bf7\u4e00\u4e2alist\uff0c\u957f\u5ea6\u7b49\u4e8e\u5f85\u6392\u5e8f\u5217\u7684\u957f\u5ea6\uff08\u8fd9\u4e2a\u662f\u8f93\u51fa\u5e8f\u5217\uff0c\u7531\u6b64\u53ef\u4ee5\u770b\u51fa\u8ba1\u6570\u6392\u5e8f\u4e0d\u662f\u5c31\u5730\u6392\u5e8f\u7b97\u6cd5\uff09\uff0c\u5012\u5e8f\u904d\u5386\u5f85\u6392\u5e8f\u5217\uff08**\u5012\u6392\u7684\u539f\u56e0\u662f\u4e3a\u4e86\u4fdd\u6301\u6392\u5e8f\u7684\u7a33\u5b9a\u6027\uff0c\u5373\u5927\u5c0f\u76f8\u540c\u7684\u4e24\u4e2a\u6570\u5728\u6392\u5b8c\u5e8f\u540e\u4f4d\u7f6e\u4e0d\u4f1a\u8c03\u6362**\uff09\uff0c\u5047\u8bbe\u5f53\u524d\u6570\u5927\u5c0f\u4e3ai\uff0clist[list2[i]-1] = i\uff0c\u540c\u65f6list2[i]\u81ea\u51cf1\uff08\u8fd9\u662f\u56e0\u4e3a\u8fd9\u4e2a\u5927\u5c0f\u7684\u6570\u5df2\u7ecf\u8f93\u51fa\u4e00\u4e2a\uff0c\u6240\u4ee5\u5927\u5c0f\u8981\u81ea\u51cf\uff09\u3002\u4e8e\u662f\uff0c\u8ba1\u6570\u6392\u5e8f\u7684\u6e90\u4ee3\u7801\u5982\u4e0b\u3002"
     ]
    },
    {
     "cell_type": "code",
     "collapsed": false,
     "input": [
      "import heapq\n",
      "def count_sort(alist):\n",
      "    \n",
      "    k = heapq.nlargest(1,alist)[0]+1 ;# \u7b97\u51faalist\u4e2d\u7684\u6700\u5927\u6570\uff0c\u89e3\u51b3Top k \u95ee\u9898\n",
      "    \n",
      "    alist2 = [0 for i in range(k)] # \u5efa\u7acb\u957f\u5ea6\u4e3ak\u521d\u59cb\u5316\u4f4d0\u7684\u6570\u7ec4\n",
      "    alist3 = [0 for i in range(len(alist))] # \u6392\u5e8f\u540e\u7684\u7ed3\u679c\u5b58\u5728\u8fd9\u91cc\n",
      "    \n",
      "    # \u4e0b\u9762\u5f00\u59cb\u8ba1\u6570 \n",
      "    for item in alist:\n",
      "        alist2[item]+=1\n",
      "    \n",
      "    # \u4e0b\u9762\u5f00\u59cb\u7edf\u8ba1\u524d\u9762\u7684\uff0c\u6709\u70b9\u50cf\u79ef\u5206\u64cd\u4f5c \u54c8\u54c8\u54c8 \u7b97\u51fa\u6765\u7684\u5c31\u662f\u6700\u7ec8\u7684\u4f4d\u7f6e\n",
      "    for i in range(1,k):\n",
      "        alist2[i] += alist2[i-1]\n",
      "    \n",
      "    # \u4e0b\u9762\u5f00\u59cb\u5012\u5e8f\u628a\u6570\u586b\u5728\u5b83\u8be5\u5728\u7684\u5730\u65b9\u53bb\n",
      "    for item in alist[::-1]: #\u5012\u5e8f\u904d\u5386\n",
      "        #print item\n",
      "        alist3[alist2[item]-1] = item\n",
      "        alist2[item]-=1\n",
      "    return alist3\n",
      "\n",
      "\n",
      "unsortedArray = [6, 5, 3,5, 6, 5,3, 7, 3, 6]\n",
      "sortedArray = count_sort(unsortedArray)\n",
      "print sortedArray    \n",
      "    "
     ],
     "language": "python",
     "metadata": {},
     "outputs": [
      {
       "output_type": "stream",
       "stream": "stdout",
       "text": [
        "[3, 3, 3, 5, 5, 5, 6, 6, 6, 7]\n"
       ]
      }
     ],
     "prompt_number": 48
    }
   ],
   "metadata": {}
  }
 ]
}