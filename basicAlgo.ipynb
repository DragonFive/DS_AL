{
 "metadata": {
  "name": "",
  "signature": "sha256:f93cc2fa0885730af1401ad0c18e8cb03a779b67eb6defdfd14df8895a022ed2"
 },
 "nbformat": 3,
 "nbformat_minor": 0,
 "worksheets": [
  {
   "cells": [
    {
     "cell_type": "markdown",
     "metadata": {},
     "source": [
      "# \u4e8c\u5206\u67e5\u627e \n",
      "\n",
      "## \u6d41\u7a0b\n",
      "\u5728\u6709\u5e8f\u6570\u7ec4\u4e2d\u67e5\u627e\u67d0\u4e00\u7279\u5b9a\u5143\u7d20\u7684\u641c\u7d22\u6f14\u7b97\u6cd5\u3002\u641c\u7d22\u8fc7\u7a0b\u4ece\u6570\u7ec4\u7684\u4e2d\u95f4\u5143\u7d20\u5f00\u59cb\uff0c\u5982\u679c\u4e2d\u95f4\u5143\u7d20\u6b63\u597d\u662f\u8981\u67e5\u627e\u7684\u5143\u7d20\uff0c\u5219\u641c\u7d22\u8fc7\u7a0b\u7ed3\u675f\uff1b\u5982\u679c\u67d0\u4e00\u7279\u5b9a\u5143\u7d20\u5927\u4e8e\u6216\u8005\u5c0f\u4e8e\u4e2d\u95f4\u5143\u7d20\uff0c\u5219\u5728\u6570\u7ec4\u5927\u4e8e\u6216\u5c0f\u4e8e\u4e2d\u95f4\u5143\u7d20\u7684\u90a3\u4e00\u534a\u4e2d\u67e5\u627e\uff0c\u800c\u4e14\u8ddf\u5f00\u59cb\u4e00\u6837\u4ece\u4e2d\u95f4\u5143\u7d20\u5f00\u59cb\u6bd4\u8f83\u3002\u5982\u679c\u5728\u67d0\u4e00\u6b65\u9aa4\u6570\u7ec4\u4e3a\u7a7a\uff0c\u5219\u4ee3\u8868\u627e\u4e0d\u5230\u3002\u8fd9\u79cd\u641c\u7d22\u7b97\u6cd5\u6bcf\u4e00\u6b21\u6bd4\u8f83\u90fd\u4f7f\u641c\u7d22\u8303\u56f4\u7f29\u5c0f\u4e00\u534a\u3002\n",
      "\n",
      "## \u65f6\u95f4\u590d\u6742\u5ea6\n",
      "\u6298\u534a\u641c\u7d22\u6bcf\u6b21\u628a\u641c\u7d22\u533a\u57df\u51cf\u5c11\u4e00\u534a\uff0c\u65f6\u95f4\u590d\u6742\u5ea6\u4e3a $O ( log \u2061 n )$\u3002\uff08n\u4ee3\u8868\u96c6\u5408\u4e2d\u5143\u7d20\u7684\u4e2a\u6570\uff09\n",
      "\n",
      "|\u5206\u7c7b| \t\u641c\u7d22\u7b97\u6cd5|\n",
      "|:--:|:---:|\n",
      "|\u6578\u64da\u7d50\u69cb |\t\u6570\u7ec4|\n",
      "|\u6700\u5dee\u6642\u9593\u8907\u96dc\u5ea6 \t|O(log n)|\n",
      "|\u6700\u512a\u6642\u9593\u8907\u96dc\u5ea6 |\tO(1)|\n",
      "|\u5e73\u5747\u6642\u9593\u8907\u96dc\u5ea6 |\tO(log n)|\n",
      "|\u6700\u5dee\u7a7a\u9593\u8907\u96dc\u5ea6| \t\u8fed\u4ee3\uff1aO(1)\u9012\u5f52\uff1aO(log n)\uff08\u65e0\u5c3e\u8c03\u7528\u6d88\u9664\uff09|\n",
      "\n"
     ]
    },
    {
     "cell_type": "code",
     "collapsed": false,
     "input": [
      "def bin_search1(alist,lower,upper,target):\n",
      "    if lower > upper:\n",
      "        return -1\n",
      "    mid = (lower+upper)/2\n",
      "    if alist[mid]==target:\n",
      "        return mid\n",
      "    if alist[mid]<target:\n",
      "        return bin_search1(alist,mid+1,upper,target)\n",
      "    return bin_search1(alist,lower,mid-1,target)\n",
      "\n",
      "alist = [1,3,5,7,9,11,13,15,17,21,25,29,31,35,37]\n",
      "print bin_search1(alist,0,len(alist),4)\n",
      "print bin_search1(alist,0,len(alist),21)"
     ],
     "language": "python",
     "metadata": {},
     "outputs": [
      {
       "output_type": "stream",
       "stream": "stdout",
       "text": [
        "-1\n",
        "9\n"
       ]
      }
     ],
     "prompt_number": 2
    },
    {
     "cell_type": "code",
     "collapsed": false,
     "input": [],
     "language": "python",
     "metadata": {},
     "outputs": []
    }
   ],
   "metadata": {}
  }
 ]
}