{
 "metadata": {
  "name": "",
  "signature": "sha256:e5eb0db7b9e5087d6c03eda2b860ea9a1474418a78377265fa6d7e10c893af9c"
 },
 "nbformat": 3,
 "nbformat_minor": 0,
 "worksheets": [
  {
   "cells": [
    {
     "cell_type": "markdown",
     "metadata": {},
     "source": [
      "# \u5927\u9876\u5806\n",
      "\u4ee5\u5927\u6839\u5806\u4e3a\u4f8b\uff0c\u5806\u7684\u5e38\u7528\u64cd\u4f5c\u5982\u4e0b\u3002\n",
      "\n",
      "1. \u6700\u5927\u5806\u8c03\u6574\uff08Max_Heapify\uff09\uff1a\u5c06\u5806\u7684\u672b\u7aef\u5b50\u8282\u70b9\u4f5c\u8c03\u6574\uff0c\u4f7f\u5f97\u5b50\u8282\u70b9\u6c38\u8fdc\u5c0f\u4e8e\u7236\u8282\u70b9\uff08\u4ece\u53f6\u5b50\u8282\u70b9\u5f00\u59cb\uff09\n",
      "2. \u521b\u5efa\u6700\u5927\u5806\uff08Build_Max_Heap\uff09\uff1a\u5c06\u5806\u6240\u6709\u6570\u636e\u91cd\u65b0\u6392\u5e8f(\u4ece\u6839\u8282\u70b9\u5f00\u59cb)\n",
      "3. \u5806\u6392\u5e8f\uff08HeapSort\uff09\uff1a\u79fb\u9664\u4f4d\u5728\u7b2c\u4e00\u4e2a\u6570\u636e\u7684\u6839\u8282\u70b9\uff0c\u5e76\u505a\u6700\u5927\u5806\u8c03\u6574\u7684\u9012\u5f52\u8fd0\u7b97\n"
     ]
    },
    {
     "cell_type": "code",
     "collapsed": false,
     "input": [
      "class MaxHeap:\n",
      "    def __init__(self,array=None):\n",
      "        if array:\n",
      "            self.heap = self._max_heapify(array)\n",
      "            \n",
      "        else:\n",
      "            self.heap = []\n",
      "    # \u8c03\u6574\u8282\u70b9i\u4e0e\u5b83\u7684\u5b50\u8282\u70b9\u7684\u4f4d\u7f6e,\u5411\u4e0b,\u53ea\u5173\u5fc3i\u7684\u6700\u7ec8\u7684\u4f4d\u7f6e\uff0c\u4e0d\u5173\u5fc3\u522b\u4eba\u7684\u4f4d\u7f6e\n",
      "    def _sink(self,array,i):\n",
      "        left ,right = i*2+1,i*2+2\n",
      "        \n",
      "        # \u627e\u5230\u5de6\u53f3\u8282\u70b9\u4e2d\u6700\u5927\u7684\u632a\u4e0a\u6765;\n",
      "        max_index = i\n",
      "        if left<len(array) and array[left]>array[max_index]:\n",
      "            max_index = left\n",
      "        if right<len(array) and array[right]>array[max_index]:\n",
      "            max_index = right;\n",
      "        \n",
      "        if max_index!=i: # \u8bf4\u660e\u627e\u5230\u65b0\u4f4d\u7f6e\u4e86\n",
      "            array[max_index] ,array[i] = array[i],array[max_index]\n",
      "            self._sink(array,max_index)\n",
      "            \n",
      "    # \u8c03\u6574\u8282\u70b9i\u4e0e\u7236\u8282\u70b9\u7684\u4f4d\u7f6e\uff0c\u53ea\u5173\u5fc3\u6700\u7ec8\u5230\u5b83\u5e94\u8be5\u5728\u7684\u4f4d\u7f6e\n",
      "    def _swim(self,array,i):\n",
      "        father = (i-1)/2\n",
      "        if father>=0 and array[father]<array[i]:\n",
      "            array[father],array[i] = array[i],array[father]\n",
      "            self._swim(father)\n",
      "            \n",
      "    # \u4e09\u4e2a\u5e38\u7528\u5e94\u7528\u4e4b2\u521b\u5efa\u6700\u5927\u5806\n",
      "    def _max_heapify(self,array):\n",
      "        # \u4f9d\u6b21\u5411\u4e0b\u8c03\u6574\u6bcf\u4e00\u4e2a\u70b9\n",
      "        for i in xrange(len(array)/2,-1,-1 ):\n",
      "            self._sink(array,i)\n",
      "        return array\n",
      "        \n",
      "    def push(self,item):\n",
      "        self.heap.append(item)\n",
      "        self.swim(self.heap,len(self.heap)-1) \n",
      "    # \u6ce8\u610f\u4e00\u4e9b\u8d8a\u754c\u7684\u60c5\u51b5    \n",
      "    def pop(self):\n",
      "        if len(self.heap)==0:\n",
      "            return None\n",
      "        if len(self.heap) == 1:\n",
      "            return self.heap.pop()\n",
      "        # \u5176\u5b9e\u4e0b\u9762\u7684self.heap[len(self.heap)-1] \u5176\u5b9e\u53ef\u4ee5\u5199\u6210self.heap[-1]\n",
      "        self.heap[0],self.heap[-1] = self.heap[-1],self.heap[0]\n",
      "        result = self.heap.pop()\n",
      "        self._sink(self.heap,0)\n",
      "        return result\n",
      "            \n",
      "        \n",
      "    \n",
      "            "
     ],
     "language": "python",
     "metadata": {},
     "outputs": [],
     "prompt_number": 60
    },
    {
     "cell_type": "markdown",
     "metadata": {},
     "source": [
      "# \u6d4b\u8bd5\u5927\u9876\u5806"
     ]
    },
    {
     "cell_type": "code",
     "collapsed": false,
     "input": [
      "test = [1,21,16,3,42,18,7,9,3,13,37]\n",
      "mh = MaxHeap(test)\n",
      "mh.heap"
     ],
     "language": "python",
     "metadata": {},
     "outputs": [
      {
       "metadata": {},
       "output_type": "pyout",
       "prompt_number": 58,
       "text": [
        "[42, 37, 18, 9, 21, 16, 7, 3, 3, 13, 1]"
       ]
      }
     ],
     "prompt_number": 58
    },
    {
     "cell_type": "code",
     "collapsed": false,
     "input": [
      "result = []\n",
      "item = mh.pop()\n",
      "while item!=None:\n",
      "    result.append(item)\n",
      "    item = mh.pop()\n",
      "result"
     ],
     "language": "python",
     "metadata": {},
     "outputs": [
      {
       "metadata": {},
       "output_type": "pyout",
       "prompt_number": 61,
       "text": [
        "[]"
       ]
      }
     ],
     "prompt_number": 61
    },
    {
     "cell_type": "code",
     "collapsed": false,
     "input": [],
     "language": "python",
     "metadata": {},
     "outputs": []
    }
   ],
   "metadata": {}
  }
 ]
}