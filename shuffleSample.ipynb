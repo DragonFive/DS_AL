{
 "metadata": {
  "name": "",
  "signature": "sha256:f6e202963724f5880741ce44b4adf1df459d2115c6e0bf01cee7c2d06e09e9f6"
 },
 "nbformat": 3,
 "nbformat_minor": 0,
 "worksheets": [
  {
   "cells": [
    {
     "cell_type": "markdown",
     "metadata": {},
     "source": [
      "# \u968f\u673a\u62bd\u6837\u4e0e\u6d17\u724c\u7b97\u6cd5\n",
      "\n",
      "\u53c2\u8003\u8d44\u6599\uff1a\n",
      "[Shuffle a given array - GeeksforGeeks](http://www.geeksforgeeks.org/shuffle-a-given-array/)\n",
      "\n",
      "[Shuffle \u00b7 Data Structure and Algorithm notes](https://algorithm.yuanbin.me/zh-hans/basics_algorithm/probability/shuffle.html)\n",
      "\n",
      "\n",
      "\n",
      "\u8d2a\u5fc3\u7b97\u6cd5\u4e0e\u52a8\u6001\u89c4\u5212\u7684\u4e0d\u540c\u5728\u4e8e\u5b83\u6bcf\u5bf9\u6bcf\u4e2a\u5b50\u95ee\u9898\u7684\u89e3\u51b3\u65b9\u6848\u90fd\u505a\u51fa\u9009\u62e9\uff0c\u4e0d\u80fd\u56de\u9000\u3002\u52a8\u6001\u89c4\u5212\u5219\u4f1a\u4fdd\u5b58\u4ee5\u524d\u7684\u8fd0\u7b97\u7ed3\u679c\uff0c\u5e76\u6839\u636e\u4ee5\u524d\u7684\u7ed3\u679c\u5bf9\u5f53\u524d\u8fdb\u884c\u9009\u62e9\uff0c\u6709\u56de\u9000\u529f\u80fd\u3002\n",
      "\n",
      "\u8d2a\u5fc3\u6cd5\u53ef\u4ee5\u89e3\u51b3\u4e00\u4e9b\u6700\u4f18\u5316\u95ee\u9898\uff0c\u5982\uff1a\u6c42\u56fe\u4e2d\u7684\u6700\u5c0f\u751f\u6210\u6811\u3001\u6c42\u54c8\u592b\u66fc\u7f16\u7801\u2026\u2026\u5bf9\u4e8e\u5176\u4ed6\u95ee\u9898\uff0c\u8d2a\u5fc3\u6cd5\u4e00\u822c\u4e0d\u80fd\u5f97\u5230\u6211\u4eec\u6240\u8981\u6c42\u7684\u7b54\u6848\u3002\u4e00\u65e6\u4e00\u4e2a\u95ee\u9898\u53ef\u4ee5\u901a\u8fc7\u8d2a\u5fc3\u6cd5\u6765\u89e3\u51b3\uff0c\u90a3\u4e48\u8d2a\u5fc3\u6cd5\u4e00\u822c\u662f\u89e3\u51b3\u8fd9\u4e2a\u95ee\u9898\u7684\u6700\u597d\u529e\u6cd5\u3002\u7531\u4e8e\u8d2a\u5fc3\u6cd5\u7684\u9ad8\u6548\u6027\u4ee5\u53ca\u5176\u6240\u6c42\u5f97\u7684\u7b54\u6848\u6bd4\u8f83\u63a5\u8fd1\u6700\u4f18\u7ed3\u679c\uff0c\u8d2a\u5fc3\u6cd5\u4e5f\u53ef\u4ee5\u7528\u4f5c\u8f85\u52a9\u7b97\u6cd5\u6216\u8005\u76f4\u63a5\u89e3\u51b3\u4e00\u4e9b\u8981\u6c42\u7ed3\u679c\u4e0d\u7279\u522b\u7cbe\u786e\u7684\u95ee\u9898\u3002\n",
      "\n",
      "\u8d2a\u5fc3\u6cd5\u5bb9\u6613\u8fc7\u65e9\u505a\u51b3\u5b9a\uff0c\u56e0\u800c\u6ca1\u6cd5\u8fbe\u5230\u6700\u4f73\u89e3\n",
      "\n",
      "## \u6d17\u724c\u7b97\u6cd5 \n",
      "\n",
      "\u628a\u4e00\u4e2a\u6570\u5217\u5f7b\u5e95\u6253\u4e71\uff0c\u6bcf\u4e2a\u6570\u5230\u67d0\u4e2a\u4f4d\u7f6e\u7684\u6982\u7387\u76f8\u540c\u3002Fisher\u2013Yates\u7b97\u6cd5\u7684\u65f6\u95f4\u590d\u6742\u5ea6\u662fO(n).\n",
      "\n",
      "\u8fd9\u4e2a\u95ee\u9898\u53ef\u4ee5\u7528\u8d2a\u5fc3\u7b97\u6cd5\u505a\u4e5f\u53ef\u4ee5\u7528\u52a8\u6001\u89c4\u5212\u65b9\u6cd5\u505a\uff1b\n",
      "\n",
      "### \u8d2a\u5fc3\u7b97\u6cd5 \n",
      "\n",
      "\u6bcf\u6b21\u786e\u5b9a\u4e00\u4e2a\u4f4d\u7f6e\u4e0a\u7684\u6570\uff0c\u786e\u5b9a\u7684\u65b9\u6cd5\u662f\u7528\u4e00\u4e2a\u968f\u673a\u4f4d\u7f6e(\u5305\u62ec\u8be5\u4f4d\u7f6e\u4f46\u4e0d\u5305\u62ec\u5df2\u7ecf\u6362\u597d\u7684\u4f4d\u7f6e)\u4e0a\u7684\u6570\u4e0e\u8be5\u4f4d\u7f6e\u6570\u8fdb\u884c\u4ea4\u6362\uff0c\u8fd9\u662f\u4e00\u79cd\u5178\u578b\u7684\u8d2a\u5fc3\u7b97\u6cd5\n",
      "\n",
      "\u4e3a\u4e86\u65b9\u4fbf\uff0c\u6211\u4eec\u628a\u4f4d\u7f6e\u4ece\u540e\u5f80\u524d\u904d\u5386\u3002\u8fd9\u6837\u6bd4\u8f83\u5bb9\u6613\u751f\u6210\u4e0d\u5305\u542b\u5df2\u7ecf\u6392\u597d\u4f4d\u7f6e\u7684\u968f\u673a\u6570\u3002\u7b97\u6cd5\u7684\u53ef\u884c\u6027\u8bba\u8bc1\u89c1\uff1a[Shuffle a given array - GeeksforGeeks](http://www.geeksforgeeks.org/shuffle-a-given-array/)\n",
      "\n"
     ]
    },
    {
     "cell_type": "code",
     "collapsed": false,
     "input": [
      "import random\n",
      "print random.uniform(20,10)\n",
      "print random.randint(10,20)"
     ],
     "language": "python",
     "metadata": {},
     "outputs": [
      {
       "output_type": "stream",
       "stream": "stdout",
       "text": [
        "16.8529090813\n",
        "10\n"
       ]
      }
     ],
     "prompt_number": 13
    },
    {
     "cell_type": "code",
     "collapsed": false,
     "input": [
      "a = [1,2,3,4,5,6,7,8,9]\n",
      "\n",
      "def shuffle(listA):\n",
      "    lenA = len(listA)\n",
      "    \n",
      "    for i in range(lenA-1,-1,-1):\n",
      "        index = random.randint(0,i)\n",
      "        listA[index],listA[i] = listA[i],listA[index]\n",
      "\n",
      "shuffle(a)\n",
      "print a\n",
      "    \n"
     ],
     "language": "python",
     "metadata": {},
     "outputs": [
      {
       "output_type": "stream",
       "stream": "stdout",
       "text": [
        "[2, 4, 6, 3, 7, 5, 9, 8, 1]\n"
       ]
      }
     ],
     "prompt_number": 25
    },
    {
     "cell_type": "markdown",
     "metadata": {},
     "source": [
      "### \u52a8\u6001\u89c4\u5212\u7b97\u6cd5  \n",
      "\n",
      "\u5212\u5206\u6210\u5b50\u95ee\u9898\uff0c\u5f53\u6570\u5217\u53ea\u6709\u4e00\u4e2a\u5143\u7d20\uff0c\u5982\u4f55\u6253\u4e71\u3002\u5982\u679c\u524di-1\u7684\u6570\u5df2\u7ecf\u6253\u4e71\u4e86\uff0c\u5bf9\u4e8e\u7b2ci\u4e2a\u6570\u5982\u4f55\u6253\u4e71\u5730\u63d2\u5165\u8fdb\u53bb\u3002\u5b8c\u5168\u6253\u4e71\u7684\u6807\u51c6\u662f\u6bcf\u4e00\u4e2a\u5143\u7d20\u5230\u6bcf\u4e00\u4e2a\u4f4d\u7f6e\u7684\u6982\u7387\u662f1/n\n",
      "\n"
     ]
    },
    {
     "cell_type": "code",
     "collapsed": false,
     "input": [
      "import random\n",
      "a = range(1,10)\n",
      "\n",
      "def shuffleDT(listA):\n",
      "    lenA = len(listA)\n",
      "    \n",
      "    for i in range(0,lenA):\n",
      "        index = random.randint(0,i)\n",
      "        listA[index],listA[i] = listA[i],listA[index]\n",
      "\n",
      "shuffleDT(a)\n",
      "print a\n",
      "\n",
      "    "
     ],
     "language": "python",
     "metadata": {},
     "outputs": [
      {
       "output_type": "stream",
       "stream": "stdout",
       "text": [
        "[9, 7, 1, 4, 8, 2, 6, 3, 5]\n"
       ]
      }
     ],
     "prompt_number": 29
    },
    {
     "cell_type": "markdown",
     "metadata": {},
     "source": [
      "## random sample \u968f\u673a\u62bd\u6837 \n",
      "\u4eceN\u4e2a\u5143\u7d20\u4e2d\u62bd\u53d6m\u4e2a\uff0c\u4fdd\u8bc1\u6bcf\u4e2a\u5143\u7d20\u88ab\u62bd\u5230\u7684\u6982\u7387\u76f8\u540c\n",
      "\n",
      "\u4f7f\u7528\u7684\u662falgorithm R\u7b97\u6cd5\uff1a"
     ]
    },
    {
     "cell_type": "code",
     "collapsed": false,
     "input": [
      "A = range(1,10)\n",
      "\n",
      "def randSam(nums,m):\n",
      "    N = len(A)\n",
      "    result = [A[i] for i in range(0,m)]\n",
      "    \n",
      "    for i in range(m,N):\n",
      "        index = random.randint(0,i+1)\n",
      "        if index<m:\n",
      "            result[index] = A[i]\n",
      "\n",
      "    return result\n",
      "\n",
      "result = randSam(A,3)\n",
      "print result\n",
      "    \n"
     ],
     "language": "python",
     "metadata": {},
     "outputs": [
      {
       "output_type": "stream",
       "stream": "stdout",
       "text": [
        "[4, 5, 9]\n"
       ]
      }
     ],
     "prompt_number": 34
    },
    {
     "cell_type": "code",
     "collapsed": false,
     "input": [],
     "language": "python",
     "metadata": {},
     "outputs": []
    }
   ],
   "metadata": {}
  }
 ]
}