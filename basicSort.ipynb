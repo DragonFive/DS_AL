{
 "metadata": {
  "name": "",
  "signature": "sha256:98f7e5e39c5bcfd0abf128a71c8fb9be4e7e0360a256136152308f2dc6ad69c3"
 },
 "nbformat": 3,
 "nbformat_minor": 0,
 "worksheets": [
  {
   "cells": [
    {
     "cell_type": "markdown",
     "metadata": {},
     "source": [
      "# \u6392\u5e8f\u65b9\u6cd5\n",
      "\n",
      "---\n",
      "\n",
      "## \u5192\u6ce1\u6392\u5e8f"
     ]
    },
    {
     "cell_type": "code",
     "collapsed": false,
     "input": [
      "def bubleSort(array):\n",
      "    # \u8fd9\u4e2ai\u8868\u793a\u8be5\u627e\u7b2ci+1\u5927\u7684\u6570\n",
      "    for i in xrange(len(array)-1):\n",
      "        for j in xrange(0,len(array)-i-1):\n",
      "            if array[j]>array[j+1]:\n",
      "                array[j+1],array[j] = array[j],array[j+1]\n",
      "\n",
      "    return array\n",
      "\n",
      "array = [12,18,29,9,4,1,6]\n",
      "bubleSort(array)\n",
      "            "
     ],
     "language": "python",
     "metadata": {},
     "outputs": []
    },
    {
     "cell_type": "code",
     "collapsed": false,
     "input": [
      "def bubleSort2(array):\n",
      "    # \u8fd9\u4e2ai\u8be5\u627e\u5b58\u5728\u8fd9\u4e2a\u4e0b\u6807\u4e0a\u7684\u6570\u4e86\n",
      "    for i in xrange(len(array)-1,0,-1):\n",
      "        for j in xrange(0,i):\n",
      "            if array[j]>array[j+1]:\n",
      "                array[j+1],array[j] = array[j],array[j+1]\n",
      "\n",
      "    return array\n",
      "\n",
      "array = [12,18,29,9,4,1,6]\n",
      "bubleSort(array)"
     ],
     "language": "python",
     "metadata": {},
     "outputs": [
      {
       "metadata": {},
       "output_type": "pyout",
       "prompt_number": 21,
       "text": [
        "[1, 4, 6, 9, 12, 18, 29]"
       ]
      }
     ],
     "prompt_number": 21
    },
    {
     "cell_type": "markdown",
     "metadata": {},
     "source": [
      "### \u590d\u6742\u5ea6\u5206\u6790\n",
      "\n",
      "\u5e73\u5747\u60c5\u51b5\u4e0e\u6700\u574f\u60c5\u51b5\u5747\u4e3a $O(n^2)$, \u4f7f\u7528\u4e86 temp \u4f5c\u4e3a\u4e34\u65f6\u4ea4\u6362\u53d8\u91cf\uff0c\u7a7a\u95f4\u590d\u6742\u5ea6\u4e3a $O(1)$."
     ]
    },
    {
     "cell_type": "markdown",
     "metadata": {},
     "source": [
      "## \u9009\u62e9\u6392\u5e8f \n",
      "\u6838\u5fc3\uff1a\u4e0d\u65ad\u5730\u9009\u62e9\u5269\u4f59\u5143\u7d20\u4e2d\u7684\u6700\u5c0f\u8005\u3002\n",
      "\n",
      "1. \u627e\u5230\u6570\u7ec4\u4e2d\u6700\u5c0f\u5143\u7d20\u5e76\u5c06\u5176\u548c\u6570\u7ec4\u7b2c\u4e00\u4e2a\u5143\u7d20\u4ea4\u6362\u4f4d\u7f6e\u3002\n",
      "2. \u5728\u5269\u4e0b\u7684\u5143\u7d20\u4e2d\u627e\u5230\u6700\u5c0f\u5143\u7d20\u5e76\u5c06\u5176\u4e0e\u6570\u7ec4\u7b2c\u4e8c\u4e2a\u5143\u7d20\u4ea4\u6362\uff0c\u76f4\u81f3\u6574\u4e2a\u6570\u7ec4\u6392\u5e8f\u3002\n",
      "\n",
      "\u6027\u8d28\uff1a\n",
      "\n",
      "1. \u6bd4\u8f83\u6b21\u6570=(N-1)+(N-2)+(N-3)+...+2+1~N^2/2\n",
      "2. \u4ea4\u6362\u6b21\u6570=N\n",
      "3. \u8fd0\u884c\u65f6\u95f4\u4e0e\u8f93\u5165\u65e0\u5173\n",
      "4. \u6570\u636e\u79fb\u52a8\u6700\u5c11\n"
     ]
    },
    {
     "cell_type": "code",
     "collapsed": false,
     "input": [
      "def selectSort(array):\n",
      "    # \u8fd9\u91cci\u8bb0\u5f97\u662f\u8fd9\u6b21\u8be5\u51b3\u5b9a\u8c01\u5b58\u5230\u8fd9\u4e2a\u4e0b\u6807\u4e0a\u4e86\n",
      "    for i in xrange(len(array)-1):\n",
      "        min_ind = i\n",
      "        for j in xrange(i+1,len(array)):\n",
      "            if array[min_ind]>array[j]:\n",
      "                min_ind = j\n",
      "        if min_ind != i:\n",
      "            array[min_ind],array[i] = array[i],array[min_ind]\n",
      "\n",
      "    return array\n",
      "\n",
      "array = [12,18,29,9,4,1,6]\n",
      "selectSort(array)\n"
     ],
     "language": "python",
     "metadata": {},
     "outputs": [
      {
       "metadata": {},
       "output_type": "pyout",
       "prompt_number": 9,
       "text": [
        "[1, 4, 6, 9, 12, 18, 29]"
       ]
      }
     ],
     "prompt_number": 9
    },
    {
     "cell_type": "code",
     "collapsed": false,
     "input": [
      "def selectSort2(array):\n",
      "    # \u8fd9\u91cci\u8bb0\u5f97\u662f\u8fd9\u6b21\u8be5\u51b3\u5b9a\u8c01\u5b58\u5230\u8fd9\u4e2a\u4e0b\u6807\u4e0a\u4e86\n",
      "    for i in xrange(len(array)-1,0,-1):\n",
      "        max_ind = i\n",
      "        #print i\n",
      "        for j in xrange(0,i):\n",
      "            #print j,array[max_ind],array[j]\n",
      "            if array[max_ind]<array[j]:\n",
      "                max_ind = j\n",
      "        if max_ind != i:\n",
      "            array[max_ind],array[i] = array[i],array[max_ind]\n",
      "        #print array\n",
      "    return array\n",
      "\n",
      "array = [12,18,29,9,4,1,6]\n",
      "selectSort2(array)"
     ],
     "language": "python",
     "metadata": {},
     "outputs": [
      {
       "metadata": {},
       "output_type": "pyout",
       "prompt_number": 1,
       "text": [
        "[1, 4, 6, 9, 12, 18, 29]"
       ]
      }
     ],
     "prompt_number": 1
    },
    {
     "cell_type": "markdown",
     "metadata": {},
     "source": [
      "## \u63d2\u5165\u6392\u5e8f\n",
      "\n"
     ]
    },
    {
     "cell_type": "code",
     "collapsed": false,
     "input": [
      "def insertSort(alist):\n",
      "    for i,item_i in enumerate(alist):\n",
      "        # \u5f00\u59cb\u786e\u5b9a\u7b2ci\u4e2a\u5143\u7d20\u5e94\u8be5\u5728\u7684\u4f4d\u5b50;\n",
      "        index = i-1\n",
      "        # \u4ece\u524d\u4e00\u4e2a\u5143\u7d20\u5f00\u59cb\uff0c\u904d\u5386\u52300,\n",
      "        while index>=0 and alist[index]>item_i:\n",
      "            alist[index+1]=alist[index]\n",
      "        alist[index+1] = item_i\n",
      "    return alist\n",
      "\n",
      "alist = [12,18,29,9,4,1,6]\n",
      "insertSort(alist)\n"
     ],
     "language": "python",
     "metadata": {},
     "outputs": []
    },
    {
     "cell_type": "code",
     "collapsed": false,
     "input": [],
     "language": "python",
     "metadata": {},
     "outputs": []
    }
   ],
   "metadata": {}
  }
 ]
}