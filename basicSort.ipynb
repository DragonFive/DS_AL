{
 "metadata": {
  "name": "",
  "signature": "sha256:6ff500db2c869c38f4b2ad3012590ad3c12ffa0772d1c8d011300a868020b539"
 },
 "nbformat": 3,
 "nbformat_minor": 0,
 "worksheets": [
  {
   "cells": [
    {
     "cell_type": "markdown",
     "metadata": {},
     "source": [
      "# \u6392\u5e8f\u65b9\u6cd5\n",
      "\n",
      "---\n",
      "\n",
      "## \u5192\u6ce1\u6392\u5e8f"
     ]
    },
    {
     "cell_type": "code",
     "collapsed": false,
     "input": [
      "def bubleSort(array):\n",
      "    # \u8fd9\u4e2ai\u8868\u793a\u8be5\u627e\u7b2ci+1\u5927\u7684\u6570\n",
      "    for i in xrange(len(array)-1):\n",
      "        for j in xrange(0,len(array)-i-1):\n",
      "            if array[j]>array[j+1]:\n",
      "                array[j+1],array[j] = array[j],array[j+1]\n",
      "\n",
      "    return array\n",
      "\n",
      "array = [12,18,29,9,4,1,6]\n",
      "bubleSort(array)\n",
      "            "
     ],
     "language": "python",
     "metadata": {},
     "outputs": [
      {
       "metadata": {},
       "output_type": "pyout",
       "prompt_number": 1,
       "text": [
        "[1, 4, 6, 9, 12, 18, 29]"
       ]
      }
     ],
     "prompt_number": 1
    },
    {
     "cell_type": "code",
     "collapsed": false,
     "input": [
      "def bubleSort2(array):\n",
      "    # \u8fd9\u4e2ai\u8be5\u627e\u5b58\u5728\u8fd9\u4e2a\u4e0b\u6807\u4e0a\u7684\u6570\u4e86\n",
      "    for i in xrange(len(array)-1,0,-1):\n",
      "        for j in xrange(0,i):\n",
      "            if array[j]>array[j+1]:\n",
      "                array[j+1],array[j] = array[j],array[j+1]\n",
      "\n",
      "    return array\n",
      "\n",
      "array = [12,18,29,9,4,1,6]\n",
      "bubleSort(array)"
     ],
     "language": "python",
     "metadata": {},
     "outputs": [
      {
       "metadata": {},
       "output_type": "pyout",
       "prompt_number": 21,
       "text": [
        "[1, 4, 6, 9, 12, 18, 29]"
       ]
      }
     ],
     "prompt_number": 21
    },
    {
     "cell_type": "markdown",
     "metadata": {},
     "source": [
      "### \u590d\u6742\u5ea6\u5206\u6790\n",
      "\n",
      "\u5e73\u5747\u60c5\u51b5\u4e0e\u6700\u574f\u60c5\u51b5\u5747\u4e3a $O(n^2)$, \u4f7f\u7528\u4e86 temp \u4f5c\u4e3a\u4e34\u65f6\u4ea4\u6362\u53d8\u91cf\uff0c\u7a7a\u95f4\u590d\u6742\u5ea6\u4e3a $O(1)$."
     ]
    },
    {
     "cell_type": "markdown",
     "metadata": {},
     "source": [
      "## \u9009\u62e9\u6392\u5e8f \n",
      "\u6838\u5fc3\uff1a\u4e0d\u65ad\u5730\u9009\u62e9\u5269\u4f59\u5143\u7d20\u4e2d\u7684\u6700\u5c0f\u8005\u3002\n",
      "\n",
      "1. \u627e\u5230\u6570\u7ec4\u4e2d\u6700\u5c0f\u5143\u7d20\u5e76\u5c06\u5176\u548c\u6570\u7ec4\u7b2c\u4e00\u4e2a\u5143\u7d20\u4ea4\u6362\u4f4d\u7f6e\u3002\n",
      "2. \u5728\u5269\u4e0b\u7684\u5143\u7d20\u4e2d\u627e\u5230\u6700\u5c0f\u5143\u7d20\u5e76\u5c06\u5176\u4e0e\u6570\u7ec4\u7b2c\u4e8c\u4e2a\u5143\u7d20\u4ea4\u6362\uff0c\u76f4\u81f3\u6574\u4e2a\u6570\u7ec4\u6392\u5e8f\u3002\n",
      "\n",
      "\u6027\u8d28\uff1a\n",
      "\n",
      "1. \u6bd4\u8f83\u6b21\u6570=(N-1)+(N-2)+(N-3)+...+2+1~N^2/2\n",
      "2. \u4ea4\u6362\u6b21\u6570=N\n",
      "3. \u8fd0\u884c\u65f6\u95f4\u4e0e\u8f93\u5165\u65e0\u5173\n",
      "4. \u6570\u636e\u79fb\u52a8\u6700\u5c11\n"
     ]
    },
    {
     "cell_type": "code",
     "collapsed": false,
     "input": [
      "def selectSort(array):\n",
      "    # \u8fd9\u91cci\u8bb0\u5f97\u662f\u8fd9\u6b21\u8be5\u51b3\u5b9a\u8c01\u5b58\u5230\u8fd9\u4e2a\u4e0b\u6807\u4e0a\u4e86\n",
      "    for i in xrange(len(array)-1):\n",
      "        min_ind = i\n",
      "        for j in xrange(i+1,len(array)):\n",
      "            if array[min_ind]>array[j]:\n",
      "                min_ind = j\n",
      "        if min_ind != i:\n",
      "            array[min_ind],array[i] = array[i],array[min_ind]\n",
      "\n",
      "    return array\n",
      "\n",
      "array = [12,18,29,9,4,1,6]\n",
      "selectSort(array)\n"
     ],
     "language": "python",
     "metadata": {},
     "outputs": [
      {
       "metadata": {},
       "output_type": "pyout",
       "prompt_number": 9,
       "text": [
        "[1, 4, 6, 9, 12, 18, 29]"
       ]
      }
     ],
     "prompt_number": 9
    },
    {
     "cell_type": "code",
     "collapsed": false,
     "input": [
      "def selectSort2(array):\n",
      "    # \u8fd9\u91cci\u8bb0\u5f97\u662f\u8fd9\u6b21\u8be5\u51b3\u5b9a\u8c01\u5b58\u5230\u8fd9\u4e2a\u4e0b\u6807\u4e0a\u4e86\n",
      "    for i in xrange(len(array)-1,0,-1):\n",
      "        max_ind = i\n",
      "        #print i\n",
      "        for j in xrange(0,i):\n",
      "            #print j,array[max_ind],array[j]\n",
      "            if array[max_ind]<array[j]:\n",
      "                max_ind = j\n",
      "        if max_ind != i:\n",
      "            array[max_ind],array[i] = array[i],array[max_ind]\n",
      "        #print array\n",
      "    return array\n",
      "\n",
      "array = [12,18,29,9,4,1,6]\n",
      "selectSort2(array)"
     ],
     "language": "python",
     "metadata": {},
     "outputs": [
      {
       "metadata": {},
       "output_type": "pyout",
       "prompt_number": 1,
       "text": [
        "[1, 4, 6, 9, 12, 18, 29]"
       ]
      }
     ],
     "prompt_number": 1
    },
    {
     "cell_type": "markdown",
     "metadata": {},
     "source": [
      "## \u63d2\u5165\u6392\u5e8f\n",
      "\n"
     ]
    },
    {
     "cell_type": "code",
     "collapsed": false,
     "input": [
      "def insertSort(alist):\n",
      "    for i,item_i in enumerate(alist):\n",
      "        # \u5f00\u59cb\u786e\u5b9a\u7b2ci\u4e2a\u5143\u7d20\u5e94\u8be5\u5728\u7684\u4f4d\u5b50;\n",
      "        index = i-1\n",
      "        # \u4ece\u524d\u4e00\u4e2a\u5143\u7d20\u5f00\u59cb\uff0c\u904d\u5386\u52300,\n",
      "        while index>=0 and alist[index]>item_i:\n",
      "            alist[index+1]=alist[index]\n",
      "            index-=1\n",
      "        alist[index+1] = item_i\n",
      "    return alist\n",
      "\n",
      "alist = [12,18,29,9,4,1,6]\n",
      "insertSort(alist)\n",
      "\n",
      "\n"
     ],
     "language": "python",
     "metadata": {},
     "outputs": [
      {
       "metadata": {},
       "output_type": "pyout",
       "prompt_number": 1,
       "text": [
        "[1, 4, 6, 9, 12, 18, 29]"
       ]
      }
     ],
     "prompt_number": 1
    },
    {
     "cell_type": "markdown",
     "metadata": {},
     "source": [
      "## \u5e0c\u5c14\u6392\u5e8f \n",
      "\n",
      "\u5176\u5b9e\u5c31\u662f\u5206\u7ec4\u63d2\u5165\u6392\u5e8f \n"
     ]
    },
    {
     "cell_type": "code",
     "collapsed": false,
     "input": [
      "def shellSort(alist):\n",
      "    n = len(alist)\n",
      "    gap = int(round(n/2)) # \u53bb\u957f\u5ea6\u7684\u4e00\u822c\u4f5c\u4e3agap\n",
      "    while gap>0:\n",
      "        # print gap\n",
      "        for i in xrange(gap,n):\n",
      "            # \u628ai\u63d2\u5165\u8be5\u5217\u524d\u9762\u5df2\u7ecf\u6392\u597d\u7684\u5730\u65b9 \n",
      "            temp = alist[i]\n",
      "            while i-gap >=0 and alist[i-gap]>temp:\n",
      "                alist[i]=alist[i-gap]\n",
      "                i-=gap\n",
      "            alist[i] = temp\n",
      "        gap = int(round(gap/2)) # \u5f97\u5230\u65b0\u7684\u6b65\u957f\n",
      "    return alist\n",
      "\n",
      "array = [12,18,29,9,4,1,6]\n",
      "shellSort(array)"
     ],
     "language": "python",
     "metadata": {},
     "outputs": [
      {
       "metadata": {},
       "output_type": "pyout",
       "prompt_number": 7,
       "text": [
        "[1, 4, 6, 9, 12, 18, 29]"
       ]
      }
     ],
     "prompt_number": 7
    },
    {
     "cell_type": "markdown",
     "metadata": {},
     "source": [
      "## \u5f52\u5e76\u6392\u5e8f \n",
      "\n",
      "\u6838\u5fc3\uff1a\u5c06\u4e24\u4e2a\u6709\u5e8f\u5bf9\u6570\u7ec4\u5f52\u5e76\u6210\u4e00\u4e2a\u66f4\u5927\u7684\u6709\u5e8f\u6570\u7ec4\u3002\u901a\u5e38\u505a\u6cd5\u4e3a\u9012\u5f52\u6392\u5e8f\uff0c\u5e76\u5c06\u4e24\u4e2a\u4e0d\u540c\u7684\u6709\u5e8f\u6570\u7ec4\u5f52\u5e76\u5230\u7b2c\u4e09\u4e2a\u6570\u7ec4\u4e2d\u3002\u5f52\u5e76\u6392\u5e8f\u662f\u4e00\u79cd\u5178\u578b\u7684\u5206\u6cbb\u5e94\u7528\u3002\n",
      "\n",
      "\u5206\u4e24\u6b65\uff1a\u5206\u6bb5 / \u5408\u5e76\n",
      "\n",
      "\u65f6\u95f4\u590d\u6742\u5ea6\u4e3a$ O(NlogN)$, \u4f7f\u7528\u4e86\u7b49\u957f\u7684\u8f85\u52a9\u6570\u7ec4\uff0c\u7a7a\u95f4\u590d\u6742\u5ea6\u4e3a $O(N)$\u3002"
     ]
    },
    {
     "cell_type": "code",
     "collapsed": false,
     "input": [
      "def mergeSort(alist):\n",
      "    if(len(alist) <=1 ):\n",
      "        return alist\n",
      "    mid   = len(alist)/2\n",
      "    left  = mergeSort(alist[:mid])\n",
      "    right = mergeSort(alist[mid:])\n",
      "    return combine(left,right)\n",
      "    \n",
      "    \n",
      "def combine(left,right):\n",
      "    alist = []\n",
      "    l = 0\n",
      "    r = 0\n",
      "    \n",
      "    while l<len(left) and r<len(right):\n",
      "        if left[l]<=right[r]:\n",
      "            alist.append(left[l])\n",
      "            l+=1\n",
      "        else:\n",
      "            alist.append(right[r])\n",
      "            r+=1\n",
      "    \n",
      "    while l<len(left):\n",
      "        alist.append(left[l])\n",
      "        l+=1\n",
      "    \n",
      "    while r<len(right):\n",
      "        alist.append(right[r])\n",
      "        r+=1\n",
      "            \n",
      "    return alist\n",
      "\n",
      "unsortedArray = [6, 5,27, 3, 41,1, 8, 12,7, 2, 4,18]\n",
      "mergeSort(unsortedArray)"
     ],
     "language": "python",
     "metadata": {},
     "outputs": [
      {
       "metadata": {},
       "output_type": "pyout",
       "prompt_number": 5,
       "text": [
        "[1, 2, 3, 4, 5, 6, 7, 8, 12, 18, 27, 41]"
       ]
      }
     ],
     "prompt_number": 5
    },
    {
     "cell_type": "code",
     "collapsed": false,
     "input": [],
     "language": "python",
     "metadata": {},
     "outputs": []
    }
   ],
   "metadata": {}
  }
 ]
}