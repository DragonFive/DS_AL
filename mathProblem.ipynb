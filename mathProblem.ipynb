{
 "metadata": {
  "name": "",
  "signature": "sha256:cc4766c81abfd02bc1dfab19c38ab6c9a3212efecde0122053cda8ec8e31ff69"
 },
 "nbformat": 3,
 "nbformat_minor": 0,
 "worksheets": [
  {
   "cells": [
    {
     "cell_type": "markdown",
     "metadata": {},
     "source": [
      "# \u6570\u5b66\u95ee\u9898\n",
      "\n",
      "## \u6c42\u6a21\u8fd0\u7b97\n",
      "\n",
      "\u5982\u679c\u6709a % m = c % m \u548c b % m = d % m, \u90a3\u4e48\u6709\u4ee5\u4e0b\u6a21\u8fd0\u7b97\u6210\u7acb\u3002\n",
      "\n",
      "- (a + b) % m = (c + d) % m\n",
      "- (a - b) % m = (c - d) % m\n",
      "- (a \u00d7 b) % m = (c \u00d7 d) % m\n",
      "\n",
      "\u9700\u8981\u6ce8\u610f\u7684\u662f\u6ca1\u6709\u9664\u6cd5\u8fd0\u7b97\uff0c\u53e6\u5916\u7531\u4e8e\u6700\u7ec8\u7ed3\u679c\u53ef\u80fd\u6ea2\u51fa\uff0c\u6545\u9700\u8981\u4f7f\u7528\u66f4\u5927\u8303\u56f4\u7684\u7c7b\u578b\u6765\u4fdd\u5b58\u6c42\u6a21\u4e4b\u524d\u7684\u7ed3\u679c\n",
      "\n",
      "## Fast Power - \u5feb\u901f\u5e42\u8fd0\u7b97\n",
      "\n",
      "\u5feb\u901f\u5e42\u8fd0\u7b97\u7684\u6838\u5fc3\u601d\u60f3\u4e3a\u53cd\u590d\u5e73\u65b9\u6cd5\uff0c\u5c06\u5e42\u6307\u6570\u8868\u793a\u4e3a2\u7684\u5e42\u6b21\u7684\u548c\uff0c\u7b49\u4ef7\u4e8e\u4e8c\u8fdb\u5236\u8fdb\u884c\u79fb\u4f4d\u8ba1\u7b97\uff08\u4e0d\u65ad\u53d6\u5e42\u7684\u6700\u4f4e\u4f4d\uff09\uff0c\u6bd4\u5982 $ x^{22} = x^2x^4x^{16} $\n",
      "\n",
      "\u6240\u4ee5\u80fd\u8fdb\u884c\u5feb\u901f\u6c42\u5e42\u8fd0\u7b97\u7684\u6b21\u6570\u90fd\u662f\u7279\u6b8a\u7684,\u6bd4\u5982$x^6=x^2x^4$,$x^{54}=x^2x^4x^{16}x^{32}$\n",
      "\n",
      "[\u5feb\u901f\u5e42\u8fd0\u7b97](http://www.netcan666.com/2015/12/21/%E5%BF%AB%E9%80%9F%E5%B9%82%E8%BF%90%E7%AE%97/)\n",
      "\n",
      "\u8fd9\u4e2a\u7b97\u6cd5\u5176\u5b9e\u662f\u6bcf\u6b21\u7528n\u5bf92\u53d6\u6a21\u5269\u4e0b\u7684\u51b3\u5b9a\u600e\u4e48\u8ba1\u7b97\u3002\u5728\u8fd9\u4e00\u4f4d\u7b97\u4e0a\u7684res\u5c31\u662f\u8fd9\u4e00\u4f4d\u5e94\u8be5\u6709\u7684\u503c,\u8fd9\u4e00\u4f4d\u4e0a\u7684x\u8868\u793ax\u7b97\u5230\u8fd9\u4e00\u4f4d\u65f6\u5e94\u8be5\u6709\u591a\u5927\u4e86\n",
      "\n",
      "\u5f62\u5982$ x^n $\u5feb\u901f\u5e42\u8fd0\u7b97\uff0c\u4e00\u822c\u7528\u4e8c\u8fdb\u5236\u4f18\u5316\u52a0\u901f\u3002\u590d\u6742\u5ea6$ O(log_2n) $\n",
      "\n",
      "\u8fd9\u91cc\u4e3e\u4e2a\u4f8b\u5b50\u6765\u8bf4\u660e\u662f\u5982\u4f55\u52a0\u901f\u7684\uff0c\u4f8b\u5982$x^n=2^{11}$\u3002\n",
      "\n",
      "1. \u7b2c\u4e00\u4f4d\u4e3a1\u5947\u6570\u4f4d\uff0c\u505a$ret=ret\u00d7x$\u8fd0\u7b97\uff0c\u5373$ret=1\u00d7x_0=2$\uff0c\u7136\u540ex\u81ea\u8eab\u5e73\u65b9\u4e00\u6b21\uff0c\u6b64\u65f6$x=x^2=4=x^2_0$\n",
      "2. \u7b2c\u4e8c\u4f4d\u4e5f\u4e3a1\u5947\u6570\u4f4d\uff0c$ret=ret\u00d7x$\uff0c\u6b64\u65f6$ret=ret\u00d7x=x_0\u00d7x^2_0=2\u00d7x^2_0=2\u00d74=8$\uff0c\u5373$ret=x^3_0$\uff0c\u7136\u540ex\u81ea\u8eab\u5e73\u65b9\u4e00\u6b21\uff0c$x=x^2=16=x^4_0$\n",
      "3. \u7b2c\u4e09\u4f4d\u4e3a0\u5076\u6570\u4f4d\uff0c\u4e0d\u505a$ret=ret\u00d7x$\u8fd0\u7b97\uff0c\u4f46x\u8fd8\u662f\u8981\u81ea\u8eab\u5e73\u65b9\u4e00\u6b21\uff0c\u6b64\u65f6$x=x^2=256=x^8_0$\n",
      "4. \u7b2c\u56db\u4f4d\u4e3a1\u5947\u6570\u4f4d\uff0c\u505a$ret=ret\u00d7x$\u8fd0\u7b97\uff0c\u5373$ret=ret\u00d7x=x^3_0\u00d7x^8_0=8\u00d7256=2048$\uff0c\u5373$ret=x^{11}_0$\uff0c\u8fd0\u7b97\u7ed3\u675f\uff0c\u8fd4\u56deret\n",
      "\n",
      "\n",
      "\n"
     ]
    },
    {
     "cell_type": "code",
     "collapsed": false,
     "input": [
      "def fastPow(x,n):\n",
      "    ret = 1\n",
      "    while n>0:\n",
      "        if n&1:\n",
      "            ret = ret*x\n",
      "        x = x*x\n",
      "        n >>= 1\n",
      "    return ret\n",
      "\n",
      "print fastPow(2,5)"
     ],
     "language": "python",
     "metadata": {},
     "outputs": [
      {
       "output_type": "stream",
       "stream": "stdout",
       "text": [
        "32\n"
       ]
      }
     ],
     "prompt_number": 4
    },
    {
     "cell_type": "code",
     "collapsed": false,
     "input": [],
     "language": "python",
     "metadata": {},
     "outputs": []
    }
   ],
   "metadata": {}
  }
 ]
}