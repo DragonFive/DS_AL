{
 "metadata": {
  "name": "",
  "signature": "sha256:95964fa92ba911ec006ff598081e73b07635f6e431e84f4f84cdb43d4373ba1d"
 },
 "nbformat": 3,
 "nbformat_minor": 0,
 "worksheets": [
  {
   "cells": [
    {
     "cell_type": "markdown",
     "metadata": {},
     "source": [
      "# \u6570\u5b66\u95ee\u9898\n",
      "\n",
      "## \u6c42\u6a21\u8fd0\u7b97\n",
      "\n",
      "\u5982\u679c\u6709a % m = c % m \u548c b % m = d % m, \u90a3\u4e48\u6709\u4ee5\u4e0b\u6a21\u8fd0\u7b97\u6210\u7acb\u3002\n",
      "\n",
      "- (a + b) % m = (c + d) % m\n",
      "- (a - b) % m = (c - d) % m\n",
      "- (a \u00d7 b) % m = (c \u00d7 d) % m\n",
      "\n",
      "\u9700\u8981\u6ce8\u610f\u7684\u662f\u6ca1\u6709\u9664\u6cd5\u8fd0\u7b97\uff0c\u53e6\u5916\u7531\u4e8e\u6700\u7ec8\u7ed3\u679c\u53ef\u80fd\u6ea2\u51fa\uff0c\u6545\u9700\u8981\u4f7f\u7528\u66f4\u5927\u8303\u56f4\u7684\u7c7b\u578b\u6765\u4fdd\u5b58\u6c42\u6a21\u4e4b\u524d\u7684\u7ed3\u679c\n",
      "\n",
      "## Fast Power - \u5feb\u901f\u5e42\u8fd0\u7b97\n",
      "\n",
      "\u5feb\u901f\u5e42\u8fd0\u7b97\u7684\u6838\u5fc3\u601d\u60f3\u4e3a\u53cd\u590d\u5e73\u65b9\u6cd5\uff0c\u5c06\u5e42\u6307\u6570\u8868\u793a\u4e3a2\u7684\u5e42\u6b21\u7684\u548c\uff0c\u7b49\u4ef7\u4e8e\u4e8c\u8fdb\u5236\u8fdb\u884c\u79fb\u4f4d\u8ba1\u7b97\uff08\u4e0d\u65ad\u53d6\u5e42\u7684\u6700\u4f4e\u4f4d\uff09\uff0c\u6bd4\u5982 $ x^{22} = x^2x^4x^{16} $\n",
      "\n",
      "\u6240\u4ee5\u80fd\u8fdb\u884c\u5feb\u901f\u6c42\u5e42\u8fd0\u7b97\u7684\u6b21\u6570\u90fd\u662f\u7279\u6b8a\u7684,\u6bd4\u5982$x^6=x^2x^4$,$x^{54}=x^2x^4x^{16}x^{32}$\n",
      "\n",
      "[\u5feb\u901f\u5e42\u8fd0\u7b97](http://www.netcan666.com/2015/12/21/%E5%BF%AB%E9%80%9F%E5%B9%82%E8%BF%90%E7%AE%97/)\n"
     ]
    },
    {
     "cell_type": "code",
     "collapsed": false,
     "input": [
      "def fastPow(x,n):\n",
      "    while n>0:\n",
      "        x = x*x"
     ],
     "language": "python",
     "metadata": {},
     "outputs": [
      {
       "output_type": "stream",
       "stream": "stdout",
       "text": [
        "8\n"
       ]
      }
     ],
     "prompt_number": 1
    },
    {
     "cell_type": "code",
     "collapsed": false,
     "input": [],
     "language": "python",
     "metadata": {},
     "outputs": []
    }
   ],
   "metadata": {}
  }
 ]
}