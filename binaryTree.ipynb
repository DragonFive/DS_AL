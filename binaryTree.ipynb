{
 "metadata": {
  "name": "",
  "signature": "sha256:d4b30b56343142ff1ea87040169befe17fbc5e1f3c47c872c82a69860ee7ed7b"
 },
 "nbformat": 3,
 "nbformat_minor": 0,
 "worksheets": [
  {
   "cells": [
    {
     "cell_type": "markdown",
     "metadata": {},
     "source": [
      "# \u4e8c\u53c9\u6811\n",
      "\n",
      "## \u4e8c\u53c9\u6811\u7684\u8282\u70b9 \n"
     ]
    },
    {
     "cell_type": "code",
     "collapsed": false,
     "input": [
      "class TreeNode:\n",
      "    def __init__(self,val):\n",
      "        self.val = val\n",
      "        self.left = self.right = None\n",
      "    \n",
      "    "
     ],
     "language": "python",
     "metadata": {},
     "outputs": [],
     "prompt_number": 5
    },
    {
     "cell_type": "markdown",
     "metadata": {},
     "source": [
      "## \u4e8c\u53c9\u6811\u7684\u904d\u5386"
     ]
    },
    {
     "cell_type": "code",
     "collapsed": false,
     "input": [
      "# \u7ee7\u627f\u81eaobject\n",
      "class Traversal:\n",
      "    def __init__(self):\n",
      "        self.traver_list = [] #list()\n",
      "    \n",
      "    # \u5148\u5e8f\u904d\u5386; \u4ece\u4e0b\u9762\u7684\u4f8b\u5b50\u5c31\u53d1\u73b0\u4e86python\u7684\u9012\u5f52\u65b9\u6cd5\u8ddf\u4e00\u822c\u7684\u4e0d\u4e00\u6837,\u770b\u8d77\u6765\u5e76\u4e0d\u662f\u8c03\u7528\u6bcf\u4e2a\u5b50\u8282\u70b9\u7684\u51fd\u6570\uff0c\u7528\u7684\u8fd8\u662f\u7236\u8282\u70b9\u7684\u3002\n",
      "    def preorder(self,root):\n",
      "        if root:\n",
      "            self.traver_list.append(root.val)\n",
      "            self.preorder(root.left)\n",
      "            self.preorder(root.right)\n",
      "    \n",
      "    # \u4e2d\u5e8f\u904d\u5386;\n",
      "    def midorder(self,root):\n",
      "        if root:\n",
      "            self.midorder(root.left)\n",
      "            self.traver_list.append(root.val)\n",
      "            self.midorder(root.right)\n",
      "    \n",
      "    # \u540e\u5e8f\u904d\u5386\n",
      "    def postorder(self,root):\n",
      "        if root:\n",
      "            self.postorder(root.left)\n",
      "            self.postorder(root.right)\n",
      "            self.traver_list.append(root.val)\n",
      "    \n",
      "    "
     ],
     "language": "python",
     "metadata": {},
     "outputs": [],
     "prompt_number": 20
    },
    {
     "cell_type": "markdown",
     "metadata": {},
     "source": [
      "## \u6d4b\u8bd5\u4e8c\u53c9\u6811\u7684\u904d\u5386\u8fc7\u7a0b"
     ]
    },
    {
     "cell_type": "code",
     "collapsed": false,
     "input": [
      "root  = TreeNode(0)\n",
      "node1 = TreeNode(1)\n",
      "node2 = TreeNode(2)\n",
      "node3 = TreeNode(3)\n",
      "node4 = TreeNode(4)\n",
      "node5 = TreeNode(5)\n",
      "\n",
      "root.left,root.right = node1,node2\n",
      "node1.right = node3\n",
      "node3.left = node4\n",
      "node2.left = node5\n",
      "\n",
      "travel = Traversal()\n",
      "travel.preorder(root)\n",
      "\n",
      "travel.traver_list\n"
     ],
     "language": "python",
     "metadata": {},
     "outputs": [
      {
       "metadata": {},
       "output_type": "pyout",
       "prompt_number": 23,
       "text": [
        "[0, 1, 3, 4, 2, 5]"
       ]
      }
     ],
     "prompt_number": 23
    },
    {
     "cell_type": "code",
     "collapsed": false,
     "input": [
      "travel.midorder(root)\n",
      "travel.postorder(root)\n",
      "travel.traver_list"
     ],
     "language": "python",
     "metadata": {},
     "outputs": [
      {
       "metadata": {},
       "output_type": "pyout",
       "prompt_number": 24,
       "text": [
        "[0, 1, 3, 4, 2, 5, 1, 4, 3, 0, 5, 2, 4, 3, 1, 5, 2, 0]"
       ]
      }
     ],
     "prompt_number": 24
    },
    {
     "cell_type": "code",
     "collapsed": false,
     "input": [],
     "language": "python",
     "metadata": {},
     "outputs": []
    }
   ],
   "metadata": {}
  }
 ]
}