{
 "metadata": {
  "name": "",
  "signature": "sha256:f03af092c3a83f992f17082f08ceff3cb1b47bcccbefc9ace42c27701efba079"
 },
 "nbformat": 3,
 "nbformat_minor": 0,
 "worksheets": [
  {
   "cells": [
    {
     "cell_type": "markdown",
     "metadata": {},
     "source": [
      "# \u6570\u5b66\u95ee\u9898\n",
      "\n",
      "## \u6c42\u6a21\u8fd0\u7b97\n",
      "\n",
      "\u5982\u679c\u6709a % m = c % m \u548c b % m = d % m, \u90a3\u4e48\u6709\u4ee5\u4e0b\u6a21\u8fd0\u7b97\u6210\u7acb\u3002\n",
      "\n",
      "- (a + b) % m = (c + d) % m\n",
      "- (a - b) % m = (c - d) % m\n",
      "- (a \u00d7 b) % m = (c \u00d7 d) % m\n",
      "\n",
      "\u9700\u8981\u6ce8\u610f\u7684\u662f\u6ca1\u6709\u9664\u6cd5\u8fd0\u7b97\uff0c\u53e6\u5916\u7531\u4e8e\u6700\u7ec8\u7ed3\u679c\u53ef\u80fd\u6ea2\u51fa\uff0c\u6545\u9700\u8981\u4f7f\u7528\u66f4\u5927\u8303\u56f4\u7684\u7c7b\u578b\u6765\u4fdd\u5b58\u6c42\u6a21\u4e4b\u524d\u7684\u7ed3\u679c\n",
      "\n",
      "## Fast Power - \u5feb\u901f\u5e42\u8fd0\u7b97\n",
      "\n",
      "\u5feb\u901f\u5e42\u8fd0\u7b97\u7684\u6838\u5fc3\u601d\u60f3\u4e3a\u53cd\u590d\u5e73\u65b9\u6cd5\uff0c\u5c06\u5e42\u6307\u6570\u8868\u793a\u4e3a2\u7684\u5e42\u6b21\u7684\u548c\uff0c\u7b49\u4ef7\u4e8e\u4e8c\u8fdb\u5236\u8fdb\u884c\u79fb\u4f4d\u8ba1\u7b97\uff08\u4e0d\u65ad\u53d6\u5e42\u7684\u6700\u4f4e\u4f4d\uff09\uff0c\u6bd4\u5982 $ x^{22} = x^2x^4x^{16} $\n",
      "\n",
      "\u6240\u4ee5\u80fd\u8fdb\u884c\u5feb\u901f\u6c42\u5e42\u8fd0\u7b97\u7684\u6b21\u6570\u90fd\u662f\u7279\u6b8a\u7684,\u6bd4\u5982$x^6=x^2x^4$,$x^{54}=x^2x^4x^{16}x^{32}$\n",
      "\n",
      "[\u5feb\u901f\u5e42\u8fd0\u7b97](http://www.netcan666.com/2015/12/21/%E5%BF%AB%E9%80%9F%E5%B9%82%E8%BF%90%E7%AE%97/)\n",
      "\n",
      "\u8fd9\u4e2a\u7b97\u6cd5\u5176\u5b9e\u662f\u6bcf\u6b21\u7528n\u5bf92\u53d6\u6a21\u5269\u4e0b\u7684\u51b3\u5b9a\u600e\u4e48\u8ba1\u7b97\u3002\u5728\u8fd9\u4e00\u4f4d\u7b97\u4e0a\u7684res\u5c31\u662f\u8fd9\u4e00\u4f4d\u5e94\u8be5\u6709\u7684\u503c,\u8fd9\u4e00\u4f4d\u4e0a\u7684x\u8868\u793ax\u7b97\u5230\u8fd9\u4e00\u4f4d\u65f6\u5e94\u8be5\u6709\u591a\u5927\u4e86\n",
      "\n",
      "\u5f62\u5982$ x^n $\u5feb\u901f\u5e42\u8fd0\u7b97\uff0c\u4e00\u822c\u7528\u4e8c\u8fdb\u5236\u4f18\u5316\u52a0\u901f\u3002\u590d\u6742\u5ea6$ O(log_2n) $\n",
      "\n",
      "\u8fd9\u91cc\u4e3e\u4e2a\u4f8b\u5b50\u6765\u8bf4\u660e\u662f\u5982\u4f55\u52a0\u901f\u7684\uff0c\u4f8b\u5982$x^n=2^{11}$\u3002\n",
      "\n",
      "1. \u7b2c\u4e00\u4f4d\u4e3a1\u5947\u6570\u4f4d\uff0c\u505a$ret=ret\u00d7x$\u8fd0\u7b97\uff0c\u5373$ret=1\u00d7x_0=2$\uff0c\u7136\u540ex\u81ea\u8eab\u5e73\u65b9\u4e00\u6b21\uff0c\u6b64\u65f6$x=x^2=4=x^2_0$\n",
      "2. \u7b2c\u4e8c\u4f4d\u4e5f\u4e3a1\u5947\u6570\u4f4d\uff0c$ret=ret\u00d7x$\uff0c\u6b64\u65f6$ret=ret\u00d7x=x_0\u00d7x^2_0=2\u00d7x^2_0=2\u00d74=8$\uff0c\u5373$ret=x^3_0$\uff0c\u7136\u540ex\u81ea\u8eab\u5e73\u65b9\u4e00\u6b21\uff0c$x=x^2=16=x^4_0$\n",
      "3. \u7b2c\u4e09\u4f4d\u4e3a0\u5076\u6570\u4f4d\uff0c\u4e0d\u505a$ret=ret\u00d7x$\u8fd0\u7b97\uff0c\u4f46x\u8fd8\u662f\u8981\u81ea\u8eab\u5e73\u65b9\u4e00\u6b21\uff0c\u6b64\u65f6$x=x^2=256=x^8_0$\n",
      "4. \u7b2c\u56db\u4f4d\u4e3a1\u5947\u6570\u4f4d\uff0c\u505a$ret=ret\u00d7x$\u8fd0\u7b97\uff0c\u5373$ret=ret\u00d7x=x^3_0\u00d7x^8_0=8\u00d7256=2048$\uff0c\u5373$ret=x^{11}_0$\uff0c\u8fd0\u7b97\u7ed3\u675f\uff0c\u8fd4\u56deret\n",
      "\n",
      "\n",
      "\n"
     ]
    },
    {
     "cell_type": "code",
     "collapsed": false,
     "input": [
      "def fastPow(x,n):\n",
      "    ret = 1\n",
      "    while n>0:\n",
      "        if n&1:\n",
      "            ret = ret*x\n",
      "        x = x*x\n",
      "        n >>= 1\n",
      "    return ret\n",
      "\n",
      "print fastPow(2,5)"
     ],
     "language": "python",
     "metadata": {},
     "outputs": [
      {
       "output_type": "stream",
       "stream": "stdout",
       "text": [
        "32\n"
       ]
      }
     ],
     "prompt_number": 1
    },
    {
     "cell_type": "markdown",
     "metadata": {},
     "source": [
      "## \u6700\u5927\u516c\u7ea6\u6570 GCD\n",
      "\n",
      "\u5e38\u7528\u7684\u65b9\u6cd5\u4e3a\u8f97\u8f6c\u76f8\u9664\u6cd5\uff0c\u4e5f\u79f0\u4e3a\u6b27\u51e0\u91cc\u5f97\u7b97\u6cd5\u3002\u8bbe$ a=b*p+q $ \u3002\u5219 $ gcd(a,b) = gcd(b,q) $ \n",
      "\n",
      "\u8ba1\u7b97\u6700\u5927\u516c\u7ea6\u6570\u7684\u65f6\u95f4\u590d\u6742\u5ea6\u4e3a \n",
      "### \u6700\u5c0f\u516c\u500d\u6570 LCM\n",
      "\n",
      "$lcm*gcd = a*b$\n"
     ]
    },
    {
     "cell_type": "code",
     "collapsed": false,
     "input": [
      "def gcd(a,b):\n",
      "    if b==0:\n",
      "        return a\n",
      "    return gcd(b,a%b)\n",
      "\n",
      "\n",
      "def lcm(a,b):\n",
      "    return a*b/gcd(a,b)\n",
      "\n",
      "print gcd(40,16)\n"
     ],
     "language": "python",
     "metadata": {},
     "outputs": [
      {
       "output_type": "stream",
       "stream": "stdout",
       "text": [
        "8\n"
       ]
      }
     ],
     "prompt_number": 8
    },
    {
     "cell_type": "markdown",
     "metadata": {},
     "source": [
      "### problem \n",
      "\n",
      "\u7ed9\u5b9a\u5e73\u9762\u4e0a\u4e24\u4e2a\u5750\u6807 $P_1=(x_1, y_1)$, $P_2=(x_2,y_2)$,\uff08\u90fd\u662f\u6574\u6570\u5750\u6807\u70b9\uff09 \u95ee\u7ebf\u6bb5 $P_1P_2$ \u4e0a\u9664 $P_1, P_2$\u4ee5\u5916\u8fd8\u6709\u51e0\u4e2a\u6574\u6570\u5750\u6807\u70b9\uff1f\n",
      "\n",
      "\u7b54\uff1a\u8bbe\u70b9 $ (x,y) $ \u662f\u4e2a\u6574\u6570\u5750\u6807\u70b9,\u90a3\u4e48\u9700\u8981\u6ee1\u8db3 $ \\frac{y-y_1}{x-x_1} = \\frac{y_2-y_1}{x_2-x_1} = k$ ,\u8fd9\u91cck\u53ef\u80fd\u662f\u6574\u6570\uff0c\u4e5f\u53ef\u80fd\u662f\u5c0f\u6570\u3002\u5f53k\u4e3a\u6574\u6570\u7684\u65f6\u5019\uff0c\u4e5f\u5c31\u662f$y_2-y_1$\u4e0e$x_2-x_1$\u7684\u516c\u7ea6\u6570\u3002\u5373 $ y_2-y_1,x_2-x_1  $\u90fd\u80fd\u591f\u88abk\u5e73\u5747\u5206\u6210\u82e5\u5e72\u4efd\u957f\u5ea6\u5206\u522b\u4e3a$ len_y = \\frac{y_2-y_1}{k}, len_x = \\frac{x_2-x_1}{k}$(\u6574\u9664)\uff0c\u90a3\u4e48\u5f53$x-x_1 = m*len_x , y-y_1 = m*len_y, (0 < m < \\frac{y_2-y_1}{len_y}) $\u7684\u65f6\u5019, $ \\frac{y-y_1}{x-x_1} = \\frac{m*len_y}{m*len_x} = \\frac{len_y}{len_x}  = \\frac{y_2-y_1}{x_2-x_1}$ \u6ee1\u8db3\u6761\u4ef6, \u800c\u8fd9\u6837\u7684m\u6709$ \\frac{y_2-y_1}{len_y}-1 = k-1$ \u6240\u4ee5\u53ea\u8981\u627e\u5230\u4e00\u4e2a$ y_2-y_1$\u7684\u516c\u7ea6\u6570k\u5c31\u80fd\u627e\u5230k-1\u4e2a\u8fd9\u6837\u7684\u6574\u6570\u70b9$(x,y)$,\u90a3\u4e48\u5f53\u627e\u5230\u7684\u516c\u7ea6\u6570k\u6700\u5927\u7684\u65f6\u5019\uff0c\u5f97\u5230\u7684\u6574\u6570\u70b9\u4e5f\u5c31\u6700\u591a\u3002\u6240\u4ee5\u6574\u6570\u70b9\u7684\u4e2a\u6570\u4e3a$ y_2-y_1\u4e0ex_2-x_1 $\u7684\u6700\u5927\u516c\u7ea6\u6570\u51cf1\n",
      "\n",
      "\u6240\u4ee5\u8fd9\u8868\u9762\u4e0a\u662f\u4e2a\u6570\u5b66\u9898\uff0c\u5176\u5b9e\u662f\u4e2a\u7f16\u7a0b\u9898 -_-!\n",
      "\n",
      "\n",
      "\n",
      "## \u7d20\u6570 Prime\n",
      "\n",
      "[prime](http://algorithm.yuanbin.me/zh-hans/basics_algorithm/math/prime.html)\n",
      "\n",
      "\u5e38\u7528\u7684\u4e00\u4e9b\u5b9a\u7406\u548c\u7b97\u6cd5 \n",
      "\n",
      "### \u57c3\u6c0f\u7b5b\u6cd5\n",
      "\n",
      "\u5982\u679c\u9700\u8981\u679a\u4e3e\u6574\u6570n\u4ee5\u5185\u7684\u7d20\u6570\u5c31\u9700\u8981\u57c3\u6c0f\u7b5b\u6cd5\u4e86\u3002\u6838\u5fc3\u601d\u60f3\u662f\u679a\u4e3e\u4ece\u5c0f\u5230\u5927\u7684\u7d20\u6570\u5e76\u5c06\u7d20\u6570\u7684\u6574\u6570\u500d\u4f9d\u6b21\u4ece\u539f\u6574\u6570\u6570\u7ec4\u4e2d\u5220\u9664\uff0c\u4f59\u4e0b\u7684\u5373\u4e3a\u5168\u90e8\u7d20\u6570\u3002\n",
      "\n",
      "### \u533a\u95f4\u7b5b\u6cd5\n",
      "\n",
      "\u6c42\u533a\u95f4[a, b)\u5185\u6709\u591a\u5c11\u7d20\u6570\uff1f\n",
      "\n",
      "\u57c3\u6c0f\u7b5b\u6cd5\u5f97\u5230\u7684\u662f[1, n)\u5185\u7684\u7d20\u6570\uff0c\u6c42\u533a\u95f4\u7d20\u6570\u65f6\u4e0d\u592a\u5bb9\u6613\u76f4\u63a5\u6c42\u89e3\uff0c\u6211\u4eec\u91c7\u53d6\u4ee5\u9000\u4e3a\u8fdb\u7684\u601d\u8def\u5148\u7528\u57c3\u6c0f\u7b5b\u6cd5\u6c42\u5f97[1, b)\u5185\u7684\u7d20\u6570\uff0c\u7136\u540e\u622a\u53d6\u4e3a[a, b)\u5373\u53ef\u3002\n",
      "\n",
      "\n"
     ]
    },
    {
     "cell_type": "code",
     "collapsed": false,
     "input": [
      "# \u5224\u65ad\u4e00\u4e2a\u6570\u662f\u5426\u662f\u7d20\u6570\n",
      "import math\n",
      "def isPrime(n):\n",
      "    upper = int(math.sqrt(n))\n",
      "    for i in range(2,upper+1):\n",
      "        if n%i==0:\n",
      "            return False\n",
      "    return True\n",
      "\n",
      "# [isPrime(i) for i in range(10,20)]\n",
      "\n",
      "\n",
      "# \n"
     ],
     "language": "python",
     "metadata": {},
     "outputs": [
      {
       "metadata": {},
       "output_type": "pyout",
       "prompt_number": 9,
       "text": [
        "[False, True, False, True, False, False, False, True, False, True]"
       ]
      }
     ],
     "prompt_number": 9
    },
    {
     "cell_type": "markdown",
     "metadata": {},
     "source": [
      "\u7edf\u8ba1\u6570n\u7684\u7d20\u6570\u56e0\u5b50\u6709\u54ea\u4e9b\uff0c\u6309\u4ece\u5927\u5230\u5c0f\u7684\u987a\u5e8f\u6392\u5217"
     ]
    },
    {
     "cell_type": "code",
     "collapsed": false,
     "input": [
      "import math\n",
      "def getPrimeFactor(n):\n",
      "    result = {}\n",
      "    upper = int(math.sqrt(n))\n",
      "    for i in range(2,upper+1):\n",
      "        while n%i==0:\n",
      "            if i in result:\n",
      "                result[i]+=1\n",
      "            else:\n",
      "                result[i] =1\n",
      "            n = n/i\n",
      "    if n!=1:\n",
      "        result[n]=1\n",
      "    return result\n",
      "\n",
      "\n",
      "ret = getPrimeFactor(12)\n",
      "\n",
      "print ret\n",
      "    \n",
      "    \n",
      "    "
     ],
     "language": "python",
     "metadata": {},
     "outputs": [
      {
       "output_type": "stream",
       "stream": "stdout",
       "text": [
        "{2: 2, 3: 1}\n"
       ]
      }
     ],
     "prompt_number": 8
    },
    {
     "cell_type": "markdown",
     "metadata": {},
     "source": [
      "\u7edf\u8ba1\u6bd4[m,n]\u4e2d\u7684\u6240\u6709\u7d20\u6570 \u4f7f\u7528\u57c3\u6c0f\u7b5b\u6cd5\n",
      "\n",
      "\u4ece\u5c0f\u5230\u5927\u7684\u7d20\u6570\u5e76\u5c06\u7d20\u6570\u7684\u6574\u6570\u500d\u4f9d\u6b21\u4ece\u539f\u6574\u6570\u6570\u7ec4\u4e2d\u5220\u9664\uff0c\u4f59\u4e0b\u7684\u5373\u4e3a\u5168\u90e8\u7d20\u6570\u3002"
     ]
    },
    {
     "cell_type": "code",
     "collapsed": false,
     "input": [
      "import numpy as np\n",
      "def getPrime(m,n):\n",
      "    # \u521d\u59cb\u5316\u6807\u8bb0\u6570\u7ec4\n",
      "    isprime=[True for i in range(n+1)]\n",
      "    # \u521d\u59cb\u5316\u7d20\u6570\u6570\u7ec4\n",
      "    primeList = []\n",
      "    for i in range(2,n+1):\n",
      "        if isprime[i]==True:\n",
      "            if i>=m:\n",
      "                primeList.append(i)\n",
      "            # \u6e05\u9664\u540e\u9762\u7684\u500d\u6570;\n",
      "            for p in range(i+1,n+1):\n",
      "                if p%i==0:\n",
      "                    isprime[p]=False\n",
      "    return primeList\n",
      "\n",
      "print getPrime(83,100)\n",
      "            "
     ],
     "language": "python",
     "metadata": {},
     "outputs": [
      {
       "output_type": "stream",
       "stream": "stdout",
       "text": [
        "[83, 89, 97]\n"
       ]
      }
     ],
     "prompt_number": 13
    },
    {
     "cell_type": "code",
     "collapsed": false,
     "input": [],
     "language": "python",
     "metadata": {},
     "outputs": []
    }
   ],
   "metadata": {}
  }
 ]
}