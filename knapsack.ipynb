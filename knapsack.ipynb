{
 "metadata": {
  "name": "",
  "signature": "sha256:fcaba0412e028fe7313d2b8b54f972a4d39d1c370905791e1471e1f278e9a186"
 },
 "nbformat": 3,
 "nbformat_minor": 0,
 "worksheets": [
  {
   "cells": [
    {
     "cell_type": "markdown",
     "metadata": {},
     "source": [
      "# \u80cc\u5305\u95ee\u9898 \n",
      "\n",
      "## \u53c2\u8003\u8d44\u6599\n",
      "\n",
      "[Knapsack - \u80cc\u5305\u95ee\u9898](https://algorithm.yuanbin.me/zh-hans/basics_algorithm/knapsack.html)\n",
      "\n",
      "\n",
      "## \u91cd\u590d\u80cc\u5305\u95ee\u9898 \n",
      "knapscak with repetition,bounded knapsack problem\uff08\u65e0\u754c\u80cc\u5305\u95ee\u9898\uff09\n",
      "\n",
      "\u52a8\u6001\u89c4\u5212\u662f\u89e3\u51b3\u80cc\u5305\u95ee\u9898\u7684\u6709\u529b\u6b66\u5668\uff0c\u800c\u5728\u52a8\u6001\u89c4\u5212\u4e2d\uff0c\u4e3b\u8981\u7684\u95ee\u9898\u4e4b\u4e00\u5c31\u662f\u2014\u2014**\u72b6\u6001(\u5b50\u95ee\u9898)\u662f\u4ec0\u4e48**\uff1f\u5728\u672c\u9898\u4e2d\u6211\u4eec\u53ef\u4ee5\u4ece\u4e24\u4e2a\u65b9\u9762\u5bf9\u539f\u59cb\u95ee\u9898\u8fdb\u884c\u5316\u5927\u4e3a\u5c0f\uff1a\n",
      "\n",
      "1. \u66f4\u5c0f\u7684\u80cc\u5305\u5bb9\u91cf$ \\omega \\leq W $\n",
      "2. \u66f4\u5c11\u7684\u73e0\u5b9d\u6570\u76ee(\u5982\u73e0\u5b9d $ 1,2,...,j,for j \\leq n $. \n",
      "\n",
      "\u8fd9\u4e24\u4e2a\u72b6\u6001(\u5b50\u95ee\u9898)\u7a76\u7adf\u54ea\u4e2a\u5bf9\u4e8e\u89e3\u9898\u66f4\u4e3a\u65b9\u4fbf\uff0c\u8fd8\u9700\u8fdb\u4e00\u6b65\u8bba\u8bc1,\u8bba\u8bc1\u4f9d\u636e\u662f\u2014\u2014**\u80fd\u5426\u6839\u636e\u72b6\u6001(\u5b50\u95ee\u9898)\u5f88\u65b9\u4fbf\u5730\u5199\u51fa\u72b6\u6001\u8f6c\u79fb\u65b9\u7a0b**\u3002\n",
      "\n"
     ]
    },
    {
     "cell_type": "code",
     "collapsed": false,
     "input": [
      "def xchange(a,b):\n",
      "    a=a^b\n",
      "    b=a^b\n",
      "    a=a^b\n",
      "    return a,b\n",
      "a = 2 \n",
      "b = 4\n",
      "a,b= xchange(a,b)\n",
      "print a,b"
     ],
     "language": "python",
     "metadata": {},
     "outputs": [
      {
       "output_type": "stream",
       "stream": "stdout",
       "text": [
        "4 2\n"
       ]
      }
     ],
     "prompt_number": 3
    },
    {
     "cell_type": "code",
     "collapsed": false,
     "input": [],
     "language": "python",
     "metadata": {},
     "outputs": []
    }
   ],
   "metadata": {}
  }
 ]
}