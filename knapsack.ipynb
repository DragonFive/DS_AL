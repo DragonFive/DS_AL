{
 "metadata": {
  "name": "",
  "signature": "sha256:dff7ad3a707beca2fb40a7a360c827a24751d274dc1282e947674ede0b19739e"
 },
 "nbformat": 3,
 "nbformat_minor": 0,
 "worksheets": [
  {
   "cells": [
    {
     "cell_type": "markdown",
     "metadata": {},
     "source": [
      "# \u80cc\u5305\u95ee\u9898 \n",
      "\n",
      "## \u91cd\u590d\u80cc\u5305\u95ee\u9898 \n",
      "knapscak with repetition,"
     ]
    }
   ],
   "metadata": {}
  }
 ]
}