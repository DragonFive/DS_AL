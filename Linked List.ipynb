{
 "metadata": {
  "name": "",
  "signature": "sha256:b450c320a15ed18fd5fff7b66260f6e084bf600990e6526180333630339c2ce3"
 },
 "nbformat": 3,
 "nbformat_minor": 0,
 "worksheets": [
  {
   "cells": [
    {
     "cell_type": "markdown",
     "metadata": {},
     "source": [
      "# linked List \u94fe\u8868 \n",
      "\n",
      "python\u5b9e\u73b0\n",
      "\n",
      "\u94fe\u8868\u7684\u7ed3\u70b9\u7ed3\u6784"
     ]
    },
    {
     "cell_type": "code",
     "collapsed": false,
     "input": [
      "class ListNode:\n",
      "    def __init__(self,val):\n",
      "        self.val = val\n",
      "        self.next = None\n",
      "        # None \u662fNULL\u7684\u610f\u601d \n",
      "        "
     ],
     "language": "python",
     "metadata": {},
     "outputs": [],
     "prompt_number": 1
    },
    {
     "cell_type": "markdown",
     "metadata": {},
     "source": [
      "## \u94fe\u8868\u7684\u53cd\u8f6c \n",
      "\u9700\u8981\u6ce8\u610f\u7684\u662f\u5934\u8282\u70b9\u548c\u5c3e\u8282\u70b9"
     ]
    },
    {
     "cell_type": "code",
     "collapsed": false,
     "input": [
      "class ListNode:\n",
      "    def __init__(self,val):\n",
      "        self.val = val\n",
      "        self.next = None\n",
      "    \n",
      "    def reverse(self,head):\n",
      "        pre = None\n",
      "        while head:\n",
      "            tmp = head.next\n",
      "            head.next = pre\n",
      "            pre = head \n",
      "            head = tmp\n",
      "        return pre"
     ],
     "language": "python",
     "metadata": {},
     "outputs": []
    },
    {
     "cell_type": "markdown",
     "metadata": {},
     "source": [
      "## \u6d4b\u8bd5\u53cd\u8f6c"
     ]
    },
    {
     "cell_type": "code",
     "collapsed": false,
     "input": [
      "    \n",
      "\n",
      "def printf(head):\n",
      "    index = head\n",
      "    str = []\n",
      "    while index:\n",
      "        str.append(index.val)\n",
      "        index = index.next\n",
      "    return str\n",
      "\n",
      "head = ListNode(0)\n",
      "node1 = ListNode(1)\n",
      "node2 = ListNode(2)\n",
      "node3 = ListNode(3)\n",
      "\n",
      "head.next = node1\n",
      "node1.next = node2\n",
      "node2.next = node3\n",
      "\n",
      "#printf(head)\n",
      "newhead = head.reverse(head)\n",
      "\n",
      "printf(newhead)"
     ],
     "language": "python",
     "metadata": {},
     "outputs": [
      {
       "metadata": {},
       "output_type": "pyout",
       "prompt_number": 12,
       "text": [
        "[3, 2, 1, 0]"
       ]
      }
     ],
     "prompt_number": 12
    },
    {
     "cell_type": "markdown",
     "metadata": {},
     "source": [
      "# \u53cc\u5411\u94fe\u8868\n",
      "---\n",
      "\n",
      "\u53cc\u5411\u94fe\u8868\u7684\u53cd\u8f6c "
     ]
    },
    {
     "cell_type": "code",
     "collapsed": false,
     "input": [
      "class DListNode:\n",
      "    def __init__(self,val):\n",
      "        self.val = val\n",
      "        self.pre = self.next = None\n",
      "    \n",
      "    def reverse(self,head):\n",
      "        tmp = None\n",
      "        while head:\n",
      "            tmp = head.pre\n",
      "            head.pre = head.next\n",
      "            head.next = tmp\n",
      "            head = head.pre\n",
      "        return tmp.pre\n",
      "        "
     ],
     "language": "python",
     "metadata": {},
     "outputs": [],
     "prompt_number": 20
    },
    {
     "cell_type": "markdown",
     "metadata": {},
     "source": [
      "### \u6d4b\u8bd5\u53cc\u5411\u94fe\u8868\u7684\u53cd\u8f6c\n"
     ]
    },
    {
     "cell_type": "code",
     "collapsed": false,
     "input": [
      "def printf(head):\n",
      "    content = []\n",
      "    ind = head\n",
      "    while ind:\n",
      "        content.append(ind.val)\n",
      "        ind=ind.next\n",
      "    return content\n",
      "\n",
      "head = DListNode(0)\n",
      "node1 = DListNode(1)\n",
      "node2 = DListNode(2)\n",
      "node3 = DListNode(3)\n",
      "\n",
      "head.pre,head.next,  node1.pre,node1.next = None, node1,head,node2\n",
      "node2.pre,node2.next,node3.pre,node3.next = node1,node3,node2,None\n",
      "\n",
      "printf(head.reverse(head))\n"
     ],
     "language": "python",
     "metadata": {},
     "outputs": [
      {
       "metadata": {},
       "output_type": "pyout",
       "prompt_number": 21,
       "text": [
        "[3, 2, 1, 0]"
       ]
      }
     ],
     "prompt_number": 21
    },
    {
     "cell_type": "markdown",
     "metadata": {},
     "source": [
      "# \u6709\u73af\u94fe\u8868\n",
      "---\n",
      "\n",
      "\u5224\u65ad\u4e00\u4e2a\u94fe\u8868\u662f\u5426\u6709\u73af "
     ]
    },
    {
     "cell_type": "code",
     "collapsed": false,
     "input": [
      "class NodeCirecle:\n",
      "    def __init__(self,val):\n",
      "        self.val = val\n",
      "        self.next = None\n",
      "        \n",
      "    def hascircle(self,head):\n",
      "        slow = fast = head\n",
      "        while fast:\n",
      "            fast = fast.next\n",
      "            slow = slow.next\n",
      "            if fast == None:\n",
      "                return False\n",
      "\n",
      "            fast = fast.next\n",
      "            if fast == slow:\n",
      "                return True\n",
      "        return false"
     ],
     "language": "python",
     "metadata": {},
     "outputs": [],
     "prompt_number": 27
    },
    {
     "cell_type": "markdown",
     "metadata": {},
     "source": [
      "## \u6d4b\u8bd5\u662f\u5426\u6709\u73af \n"
     ]
    },
    {
     "cell_type": "code",
     "collapsed": false,
     "input": [
      "head  = NodeCirecle(0)\n",
      "node1 = NodeCirecle(1)\n",
      "node2 = NodeCirecle(2)\n",
      "node3 = NodeCirecle(3)\n",
      "node4 = NodeCirecle(4)\n",
      "node5 = NodeCirecle(5)\n",
      "node6 = NodeCirecle(6)\n",
      "\n",
      "head.next = node1\n",
      "node1.next = node2\n",
      "node2.next = node3\n",
      "node3.next = node4\n",
      "node4.next = node5\n",
      "node5.next = node6\n",
      "# node6.next = node2\n",
      "\n",
      "head.hascircle(head)"
     ],
     "language": "python",
     "metadata": {},
     "outputs": [
      {
       "metadata": {},
       "output_type": "pyout",
       "prompt_number": 28,
       "text": [
        "False"
       ]
      }
     ],
     "prompt_number": 28
    },
    {
     "cell_type": "code",
     "collapsed": false,
     "input": [],
     "language": "python",
     "metadata": {},
     "outputs": []
    }
   ],
   "metadata": {}
  }
 ]
}